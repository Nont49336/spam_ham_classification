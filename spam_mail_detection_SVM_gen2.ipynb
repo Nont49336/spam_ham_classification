{
 "cells": [
  {
   "cell_type": "code",
   "execution_count": null,
   "metadata": {
    "colab": {
     "base_uri": "https://localhost:8080/"
    },
    "id": "ExjprLGCVp40",
    "outputId": "909057d7-cd87-4363-b4af-6a9af3b53e9e"
   },
   "outputs": [],
   "source": [
    "#from google.colab import drive\n",
    "#drive.mount('/content/drive')"
   ]
  },
  {
   "cell_type": "code",
   "execution_count": 12,
   "metadata": {
    "id": "R0MAZefIX7ff"
   },
   "outputs": [],
   "source": [
    "import numpy as np\n",
    "import pandas as pd\n",
    "import matplotlib.pyplot as plt\n",
    "from sklearn.model_selection import train_test_split,cross_val_score\n",
    "from sklearn.feature_extraction.text import CountVectorizer,TfidfTransformer\n",
    "from sklearn.svm import SVC\n",
    "from sklearn.metrics import accuracy_score\n",
    "from sklearn.metrics import f1_score\n",
    "from sklearn.metrics import classification_report\n",
    "import pickle\n",
    "import yellowbrick\n",
    "from sklearn.metrics import confusion_matrix"
   ]
  },
  {
   "cell_type": "code",
   "execution_count": 13,
   "metadata": {
    "id": "UUx-bpzmXd6H"
   },
   "outputs": [],
   "source": [
    "# df = pd.read_csv(\"/content/drive/MyDrive/Ai data/spam_or_not_spam2.csv\")"
   ]
  },
  {
   "cell_type": "code",
   "execution_count": 14,
   "metadata": {
    "id": "c1SHzFvJ0o3e"
   },
   "outputs": [],
   "source": [
    "df = pd.read_csv(\"C:/Users/Window10Pro/Desktop/dataset/ham_spam.csv\")"
   ]
  },
  {
   "cell_type": "code",
   "execution_count": 15,
   "metadata": {
    "colab": {
     "base_uri": "https://localhost:8080/",
     "height": 423
    },
    "id": "9mOfvq3k2JT7",
    "outputId": "1c83e548-1af4-496e-8463-ac04b19eaa2b"
   },
   "outputs": [
    {
     "data": {
      "text/html": [
       "<div>\n",
       "<style scoped>\n",
       "    .dataframe tbody tr th:only-of-type {\n",
       "        vertical-align: middle;\n",
       "    }\n",
       "\n",
       "    .dataframe tbody tr th {\n",
       "        vertical-align: top;\n",
       "    }\n",
       "\n",
       "    .dataframe thead th {\n",
       "        text-align: right;\n",
       "    }\n",
       "</style>\n",
       "<table border=\"1\" class=\"dataframe\">\n",
       "  <thead>\n",
       "    <tr style=\"text-align: right;\">\n",
       "      <th></th>\n",
       "      <th>Text</th>\n",
       "      <th>Spam</th>\n",
       "    </tr>\n",
       "  </thead>\n",
       "  <tbody>\n",
       "    <tr>\n",
       "      <th>0</th>\n",
       "      <td>Subject: txu noms . for 10 / 14 - 16 / 00 atta...</td>\n",
       "      <td>0</td>\n",
       "    </tr>\n",
       "    <tr>\n",
       "      <th>1</th>\n",
       "      <td>Subject: re : nom / actual vols for 24 th - - ...</td>\n",
       "      <td>0</td>\n",
       "    </tr>\n",
       "    <tr>\n",
       "      <th>2</th>\n",
       "      <td>Subject: hpl noms for february 15 ; 2000 ( see...</td>\n",
       "      <td>0</td>\n",
       "    </tr>\n",
       "    <tr>\n",
       "      <th>3</th>\n",
       "      <td>Subject: fw : pooling contract template - - - ...</td>\n",
       "      <td>0</td>\n",
       "    </tr>\n",
       "    <tr>\n",
       "      <th>4</th>\n",
       "      <td>Subject: hpl nom . for may 26 - 29 ; 2001 ( se...</td>\n",
       "      <td>0</td>\n",
       "    </tr>\n",
       "    <tr>\n",
       "      <th>...</th>\n",
       "      <td>...</td>\n",
       "      <td>...</td>\n",
       "    </tr>\n",
       "    <tr>\n",
       "      <th>33711</th>\n",
       "      <td>Subject: you are our lucky winner ! ! de natio...</td>\n",
       "      <td>1</td>\n",
       "    </tr>\n",
       "    <tr>\n",
       "      <th>33712</th>\n",
       "      <td>Subject: i ' m a changed man dear sir / madam ...</td>\n",
       "      <td>1</td>\n",
       "    </tr>\n",
       "    <tr>\n",
       "      <th>33713</th>\n",
       "      <td>Subject: just to her . . . soft viagra at $ 1 ...</td>\n",
       "      <td>1</td>\n",
       "    </tr>\n",
       "    <tr>\n",
       "      <th>33714</th>\n",
       "      <td>Subject: save your money by getting an oem sof...</td>\n",
       "      <td>1</td>\n",
       "    </tr>\n",
       "    <tr>\n",
       "      <th>33715</th>\n",
       "      <td>Subject: new product ! cialis soft tabs . hi t...</td>\n",
       "      <td>1</td>\n",
       "    </tr>\n",
       "  </tbody>\n",
       "</table>\n",
       "<p>33716 rows × 2 columns</p>\n",
       "</div>"
      ],
      "text/plain": [
       "                                                    Text  Spam\n",
       "0      Subject: txu noms . for 10 / 14 - 16 / 00 atta...     0\n",
       "1      Subject: re : nom / actual vols for 24 th - - ...     0\n",
       "2      Subject: hpl noms for february 15 ; 2000 ( see...     0\n",
       "3      Subject: fw : pooling contract template - - - ...     0\n",
       "4      Subject: hpl nom . for may 26 - 29 ; 2001 ( se...     0\n",
       "...                                                  ...   ...\n",
       "33711  Subject: you are our lucky winner ! ! de natio...     1\n",
       "33712  Subject: i ' m a changed man dear sir / madam ...     1\n",
       "33713  Subject: just to her . . . soft viagra at $ 1 ...     1\n",
       "33714  Subject: save your money by getting an oem sof...     1\n",
       "33715  Subject: new product ! cialis soft tabs . hi t...     1\n",
       "\n",
       "[33716 rows x 2 columns]"
      ]
     },
     "execution_count": 15,
     "metadata": {},
     "output_type": "execute_result"
    },
    {
     "data": {
      "text/html": [
       "<div>\n",
       "<style scoped>\n",
       "    .dataframe tbody tr th:only-of-type {\n",
       "        vertical-align: middle;\n",
       "    }\n",
       "\n",
       "    .dataframe tbody tr th {\n",
       "        vertical-align: top;\n",
       "    }\n",
       "\n",
       "    .dataframe thead th {\n",
       "        text-align: right;\n",
       "    }\n",
       "</style>\n",
       "<table border=\"1\" class=\"dataframe\">\n",
       "  <thead>\n",
       "    <tr style=\"text-align: right;\">\n",
       "      <th></th>\n",
       "      <th>Text</th>\n",
       "      <th>Spam</th>\n",
       "    </tr>\n",
       "  </thead>\n",
       "  <tbody>\n",
       "    <tr>\n",
       "      <th>0</th>\n",
       "      <td>Subject: txu noms . for 10 / 14 - 16 / 00 atta...</td>\n",
       "      <td>0</td>\n",
       "    </tr>\n",
       "    <tr>\n",
       "      <th>1</th>\n",
       "      <td>Subject: re : nom / actual vols for 24 th - - ...</td>\n",
       "      <td>0</td>\n",
       "    </tr>\n",
       "    <tr>\n",
       "      <th>2</th>\n",
       "      <td>Subject: hpl noms for february 15 ; 2000 ( see...</td>\n",
       "      <td>0</td>\n",
       "    </tr>\n",
       "    <tr>\n",
       "      <th>3</th>\n",
       "      <td>Subject: fw : pooling contract template - - - ...</td>\n",
       "      <td>0</td>\n",
       "    </tr>\n",
       "    <tr>\n",
       "      <th>4</th>\n",
       "      <td>Subject: hpl nom . for may 26 - 29 ; 2001 ( se...</td>\n",
       "      <td>0</td>\n",
       "    </tr>\n",
       "    <tr>\n",
       "      <th>...</th>\n",
       "      <td>...</td>\n",
       "      <td>...</td>\n",
       "    </tr>\n",
       "    <tr>\n",
       "      <th>33711</th>\n",
       "      <td>Subject: you are our lucky winner ! ! de natio...</td>\n",
       "      <td>1</td>\n",
       "    </tr>\n",
       "    <tr>\n",
       "      <th>33712</th>\n",
       "      <td>Subject: i ' m a changed man dear sir / madam ...</td>\n",
       "      <td>1</td>\n",
       "    </tr>\n",
       "    <tr>\n",
       "      <th>33713</th>\n",
       "      <td>Subject: just to her . . . soft viagra at $ 1 ...</td>\n",
       "      <td>1</td>\n",
       "    </tr>\n",
       "    <tr>\n",
       "      <th>33714</th>\n",
       "      <td>Subject: save your money by getting an oem sof...</td>\n",
       "      <td>1</td>\n",
       "    </tr>\n",
       "    <tr>\n",
       "      <th>33715</th>\n",
       "      <td>Subject: new product ! cialis soft tabs . hi t...</td>\n",
       "      <td>1</td>\n",
       "    </tr>\n",
       "  </tbody>\n",
       "</table>\n",
       "<p>33716 rows × 2 columns</p>\n",
       "</div>"
      ],
      "text/plain": [
       "                                                    Text  Spam\n",
       "0      Subject: txu noms . for 10 / 14 - 16 / 00 atta...     0\n",
       "1      Subject: re : nom / actual vols for 24 th - - ...     0\n",
       "2      Subject: hpl noms for february 15 ; 2000 ( see...     0\n",
       "3      Subject: fw : pooling contract template - - - ...     0\n",
       "4      Subject: hpl nom . for may 26 - 29 ; 2001 ( se...     0\n",
       "...                                                  ...   ...\n",
       "33711  Subject: you are our lucky winner ! ! de natio...     1\n",
       "33712  Subject: i ' m a changed man dear sir / madam ...     1\n",
       "33713  Subject: just to her . . . soft viagra at $ 1 ...     1\n",
       "33714  Subject: save your money by getting an oem sof...     1\n",
       "33715  Subject: new product ! cialis soft tabs . hi t...     1\n",
       "\n",
       "[33716 rows x 2 columns]"
      ]
     },
     "execution_count": 15,
     "metadata": {},
     "output_type": "execute_result"
    }
   ],
   "source": [
    "df"
   ]
  },
  {
   "cell_type": "code",
   "execution_count": 16,
   "metadata": {
    "colab": {
     "base_uri": "https://localhost:8080/",
     "height": 258
    },
    "id": "M8z47oIvbx81",
    "outputId": "de30ef1a-4ed3-4690-ba7b-4b88d5eb4e4d"
   },
   "outputs": [
    {
     "name": "stdout",
     "output_type": "stream",
     "text": [
      "0    15635\n",
      "1    14579\n",
      "Name: Spam, dtype: int64\n",
      "0    15635\n",
      "1    14579\n",
      "Name: Spam, dtype: int64\n"
     ]
    },
    {
     "data": {
      "text/html": [
       "<div>\n",
       "<style scoped>\n",
       "    .dataframe tbody tr th:only-of-type {\n",
       "        vertical-align: middle;\n",
       "    }\n",
       "\n",
       "    .dataframe tbody tr th {\n",
       "        vertical-align: top;\n",
       "    }\n",
       "\n",
       "    .dataframe thead th {\n",
       "        text-align: right;\n",
       "    }\n",
       "</style>\n",
       "<table border=\"1\" class=\"dataframe\">\n",
       "  <thead>\n",
       "    <tr style=\"text-align: right;\">\n",
       "      <th></th>\n",
       "      <th>Text</th>\n",
       "      <th>Spam</th>\n",
       "    </tr>\n",
       "  </thead>\n",
       "  <tbody>\n",
       "    <tr>\n",
       "      <th>0</th>\n",
       "      <td>Subject: txu noms . for 10 / 14 - 16 / 00 atta...</td>\n",
       "      <td>0</td>\n",
       "    </tr>\n",
       "    <tr>\n",
       "      <th>1</th>\n",
       "      <td>Subject: re : nom / actual vols for 24 th - - ...</td>\n",
       "      <td>0</td>\n",
       "    </tr>\n",
       "    <tr>\n",
       "      <th>2</th>\n",
       "      <td>Subject: hpl noms for february 15 ; 2000 ( see...</td>\n",
       "      <td>0</td>\n",
       "    </tr>\n",
       "    <tr>\n",
       "      <th>3</th>\n",
       "      <td>Subject: fw : pooling contract template - - - ...</td>\n",
       "      <td>0</td>\n",
       "    </tr>\n",
       "    <tr>\n",
       "      <th>4</th>\n",
       "      <td>Subject: hpl nom . for may 26 - 29 ; 2001 ( se...</td>\n",
       "      <td>0</td>\n",
       "    </tr>\n",
       "  </tbody>\n",
       "</table>\n",
       "</div>"
      ],
      "text/plain": [
       "                                                Text  Spam\n",
       "0  Subject: txu noms . for 10 / 14 - 16 / 00 atta...     0\n",
       "1  Subject: re : nom / actual vols for 24 th - - ...     0\n",
       "2  Subject: hpl noms for february 15 ; 2000 ( see...     0\n",
       "3  Subject: fw : pooling contract template - - - ...     0\n",
       "4  Subject: hpl nom . for may 26 - 29 ; 2001 ( se...     0"
      ]
     },
     "execution_count": 16,
     "metadata": {},
     "output_type": "execute_result"
    },
    {
     "data": {
      "text/html": [
       "<div>\n",
       "<style scoped>\n",
       "    .dataframe tbody tr th:only-of-type {\n",
       "        vertical-align: middle;\n",
       "    }\n",
       "\n",
       "    .dataframe tbody tr th {\n",
       "        vertical-align: top;\n",
       "    }\n",
       "\n",
       "    .dataframe thead th {\n",
       "        text-align: right;\n",
       "    }\n",
       "</style>\n",
       "<table border=\"1\" class=\"dataframe\">\n",
       "  <thead>\n",
       "    <tr style=\"text-align: right;\">\n",
       "      <th></th>\n",
       "      <th>Text</th>\n",
       "      <th>Spam</th>\n",
       "    </tr>\n",
       "  </thead>\n",
       "  <tbody>\n",
       "    <tr>\n",
       "      <th>0</th>\n",
       "      <td>Subject: txu noms . for 10 / 14 - 16 / 00 atta...</td>\n",
       "      <td>0</td>\n",
       "    </tr>\n",
       "    <tr>\n",
       "      <th>1</th>\n",
       "      <td>Subject: re : nom / actual vols for 24 th - - ...</td>\n",
       "      <td>0</td>\n",
       "    </tr>\n",
       "    <tr>\n",
       "      <th>2</th>\n",
       "      <td>Subject: hpl noms for february 15 ; 2000 ( see...</td>\n",
       "      <td>0</td>\n",
       "    </tr>\n",
       "    <tr>\n",
       "      <th>3</th>\n",
       "      <td>Subject: fw : pooling contract template - - - ...</td>\n",
       "      <td>0</td>\n",
       "    </tr>\n",
       "    <tr>\n",
       "      <th>4</th>\n",
       "      <td>Subject: hpl nom . for may 26 - 29 ; 2001 ( se...</td>\n",
       "      <td>0</td>\n",
       "    </tr>\n",
       "  </tbody>\n",
       "</table>\n",
       "</div>"
      ],
      "text/plain": [
       "                                                Text  Spam\n",
       "0  Subject: txu noms . for 10 / 14 - 16 / 00 atta...     0\n",
       "1  Subject: re : nom / actual vols for 24 th - - ...     0\n",
       "2  Subject: hpl noms for february 15 ; 2000 ( see...     0\n",
       "3  Subject: fw : pooling contract template - - - ...     0\n",
       "4  Subject: hpl nom . for may 26 - 29 ; 2001 ( se...     0"
      ]
     },
     "execution_count": 16,
     "metadata": {},
     "output_type": "execute_result"
    }
   ],
   "source": [
    "df.drop_duplicates(inplace = True)\n",
    "df = df.dropna()\n",
    "print(df[\"Spam\"].value_counts())\n",
    "df.head()"
   ]
  },
  {
   "cell_type": "code",
   "execution_count": 17,
   "metadata": {
    "colab": {
     "base_uri": "https://localhost:8080/"
    },
    "id": "AsnXeXZNha-b",
    "outputId": "209d9afe-bfe7-4192-b764-47136be77f06"
   },
   "outputs": [
    {
     "name": "stdout",
     "output_type": "stream",
     "text": [
      "<class 'pandas.core.frame.DataFrame'>\n",
      "Int64Index: 30214 entries, 0 to 33715\n",
      "Data columns (total 2 columns):\n",
      " #   Column  Non-Null Count  Dtype \n",
      "---  ------  --------------  ----- \n",
      " 0   Text    30214 non-null  object\n",
      " 1   Spam    30214 non-null  int64 \n",
      "dtypes: int64(1), object(1)\n",
      "memory usage: 708.1+ KB\n",
      "<class 'pandas.core.frame.DataFrame'>\n",
      "Int64Index: 30214 entries, 0 to 33715\n",
      "Data columns (total 2 columns):\n",
      " #   Column  Non-Null Count  Dtype \n",
      "---  ------  --------------  ----- \n",
      " 0   Text    30214 non-null  object\n",
      " 1   Spam    30214 non-null  int64 \n",
      "dtypes: int64(1), object(1)\n",
      "memory usage: 708.1+ KB\n"
     ]
    }
   ],
   "source": [
    "df.info()"
   ]
  },
  {
   "cell_type": "markdown",
   "metadata": {
    "id": "QP1P-fTXYnM6"
   },
   "source": [
    "#clean data that is not 1 and 0 in Spam"
   ]
  },
  {
   "cell_type": "code",
   "execution_count": 18,
   "metadata": {
    "colab": {
     "base_uri": "https://localhost:8080/",
     "height": 258
    },
    "id": "UG5Z5_sVslwU",
    "outputId": "07d1b2e3-1bd8-4b79-ec76-ca67a53b887d"
   },
   "outputs": [
    {
     "name": "stdout",
     "output_type": "stream",
     "text": [
      "0    15635\n",
      "1    14579\n",
      "Name: Spam, dtype: int64\n"
     ]
    },
    {
     "data": {
      "text/html": [
       "<div>\n",
       "<style scoped>\n",
       "    .dataframe tbody tr th:only-of-type {\n",
       "        vertical-align: middle;\n",
       "    }\n",
       "\n",
       "    .dataframe tbody tr th {\n",
       "        vertical-align: top;\n",
       "    }\n",
       "\n",
       "    .dataframe thead th {\n",
       "        text-align: right;\n",
       "    }\n",
       "</style>\n",
       "<table border=\"1\" class=\"dataframe\">\n",
       "  <thead>\n",
       "    <tr style=\"text-align: right;\">\n",
       "      <th></th>\n",
       "      <th>Text</th>\n",
       "      <th>Spam</th>\n",
       "    </tr>\n",
       "  </thead>\n",
       "  <tbody>\n",
       "    <tr>\n",
       "      <th>0</th>\n",
       "      <td>Subject: txu noms . for 10 / 14 - 16 / 00 atta...</td>\n",
       "      <td>0</td>\n",
       "    </tr>\n",
       "    <tr>\n",
       "      <th>1</th>\n",
       "      <td>Subject: re : nom / actual vols for 24 th - - ...</td>\n",
       "      <td>0</td>\n",
       "    </tr>\n",
       "    <tr>\n",
       "      <th>2</th>\n",
       "      <td>Subject: hpl noms for february 15 ; 2000 ( see...</td>\n",
       "      <td>0</td>\n",
       "    </tr>\n",
       "    <tr>\n",
       "      <th>3</th>\n",
       "      <td>Subject: fw : pooling contract template - - - ...</td>\n",
       "      <td>0</td>\n",
       "    </tr>\n",
       "    <tr>\n",
       "      <th>4</th>\n",
       "      <td>Subject: hpl nom . for may 26 - 29 ; 2001 ( se...</td>\n",
       "      <td>0</td>\n",
       "    </tr>\n",
       "  </tbody>\n",
       "</table>\n",
       "</div>"
      ],
      "text/plain": [
       "                                                Text  Spam\n",
       "0  Subject: txu noms . for 10 / 14 - 16 / 00 atta...     0\n",
       "1  Subject: re : nom / actual vols for 24 th - - ...     0\n",
       "2  Subject: hpl noms for february 15 ; 2000 ( see...     0\n",
       "3  Subject: fw : pooling contract template - - - ...     0\n",
       "4  Subject: hpl nom . for may 26 - 29 ; 2001 ( se...     0"
      ]
     },
     "execution_count": 18,
     "metadata": {},
     "output_type": "execute_result"
    },
    {
     "name": "stdout",
     "output_type": "stream",
     "text": [
      "0    15635\n",
      "1    14579\n",
      "Name: Spam, dtype: int64\n"
     ]
    },
    {
     "data": {
      "text/html": [
       "<div>\n",
       "<style scoped>\n",
       "    .dataframe tbody tr th:only-of-type {\n",
       "        vertical-align: middle;\n",
       "    }\n",
       "\n",
       "    .dataframe tbody tr th {\n",
       "        vertical-align: top;\n",
       "    }\n",
       "\n",
       "    .dataframe thead th {\n",
       "        text-align: right;\n",
       "    }\n",
       "</style>\n",
       "<table border=\"1\" class=\"dataframe\">\n",
       "  <thead>\n",
       "    <tr style=\"text-align: right;\">\n",
       "      <th></th>\n",
       "      <th>Text</th>\n",
       "      <th>Spam</th>\n",
       "    </tr>\n",
       "  </thead>\n",
       "  <tbody>\n",
       "    <tr>\n",
       "      <th>0</th>\n",
       "      <td>Subject: txu noms . for 10 / 14 - 16 / 00 atta...</td>\n",
       "      <td>0</td>\n",
       "    </tr>\n",
       "    <tr>\n",
       "      <th>1</th>\n",
       "      <td>Subject: re : nom / actual vols for 24 th - - ...</td>\n",
       "      <td>0</td>\n",
       "    </tr>\n",
       "    <tr>\n",
       "      <th>2</th>\n",
       "      <td>Subject: hpl noms for february 15 ; 2000 ( see...</td>\n",
       "      <td>0</td>\n",
       "    </tr>\n",
       "    <tr>\n",
       "      <th>3</th>\n",
       "      <td>Subject: fw : pooling contract template - - - ...</td>\n",
       "      <td>0</td>\n",
       "    </tr>\n",
       "    <tr>\n",
       "      <th>4</th>\n",
       "      <td>Subject: hpl nom . for may 26 - 29 ; 2001 ( se...</td>\n",
       "      <td>0</td>\n",
       "    </tr>\n",
       "  </tbody>\n",
       "</table>\n",
       "</div>"
      ],
      "text/plain": [
       "                                                Text  Spam\n",
       "0  Subject: txu noms . for 10 / 14 - 16 / 00 atta...     0\n",
       "1  Subject: re : nom / actual vols for 24 th - - ...     0\n",
       "2  Subject: hpl noms for february 15 ; 2000 ( see...     0\n",
       "3  Subject: fw : pooling contract template - - - ...     0\n",
       "4  Subject: hpl nom . for may 26 - 29 ; 2001 ( se...     0"
      ]
     },
     "execution_count": 18,
     "metadata": {},
     "output_type": "execute_result"
    }
   ],
   "source": [
    "dfclean = df.drop(df[(df['Spam'] != 0 ) & (df['Spam'] != 1)].index)\n",
    "print(dfclean[\"Spam\"].value_counts())\n",
    "dfclean.head()"
   ]
  },
  {
   "cell_type": "code",
   "execution_count": 19,
   "metadata": {
    "colab": {
     "base_uri": "https://localhost:8080/",
     "height": 52
    },
    "id": "vgRPKyk90ej4",
    "outputId": "f4ed3dc4-cba0-4985-9ac9-86e294b5159c",
    "scrolled": true
   },
   "outputs": [
    {
     "data": {
      "text/plain": [
       "'Subject: txu noms . for 10 / 14 - 16 / 00 attached ; please find the txu nominations for the weekend of october 14 - 16 ; 2000 . no scheduled flows ( see attached file : hplnl 014 . xls ) - hplnl 014 . xls'"
      ]
     },
     "execution_count": 19,
     "metadata": {},
     "output_type": "execute_result"
    },
    {
     "data": {
      "text/plain": [
       "'Subject: txu noms . for 10 / 14 - 16 / 00 attached ; please find the txu nominations for the weekend of october 14 - 16 ; 2000 . no scheduled flows ( see attached file : hplnl 014 . xls ) - hplnl 014 . xls'"
      ]
     },
     "execution_count": 19,
     "metadata": {},
     "output_type": "execute_result"
    }
   ],
   "source": [
    "dfclean['Text'][0]"
   ]
  },
  {
   "cell_type": "code",
   "execution_count": 20,
   "metadata": {
    "id": "rXJw69azsg1Z"
   },
   "outputs": [],
   "source": [
    "X = dfclean['Text']\n",
    "y = dfclean['Spam'].astype(int)"
   ]
  },
  {
   "cell_type": "markdown",
   "metadata": {},
   "source": [
    "change from countvectorizer to tf-idf vectorizer"
   ]
  },
  {
   "cell_type": "markdown",
   "metadata": {},
   "source": [
    "https://scikit-learn.org/stable/modules/generated/sklearn.feature_extraction.text.TfidfVectorizer.html"
   ]
  },
  {
   "cell_type": "code",
   "execution_count": 21,
   "metadata": {},
   "outputs": [],
   "source": [
    "vectorizer = TfidfTransformer()"
   ]
  },
  {
   "cell_type": "code",
   "execution_count": 22,
   "metadata": {
    "id": "mgcSOYmUgV3G"
   },
   "outputs": [],
   "source": [
    "cv = CountVectorizer(stop_words='english')"
   ]
  },
  {
   "cell_type": "code",
   "execution_count": 23,
   "metadata": {
    "id": "Sk7J7729uLay"
   },
   "outputs": [],
   "source": [
    "X = cv.fit_transform(X)"
   ]
  },
  {
   "cell_type": "code",
   "execution_count": 24,
   "metadata": {},
   "outputs": [],
   "source": [
    "X = vectorizer.fit_transform(X)"
   ]
  },
  {
   "cell_type": "markdown",
   "metadata": {
    "id": "pPqAo24KZAzn"
   },
   "source": [
    "#plot the data"
   ]
  },
  {
   "cell_type": "code",
   "execution_count": 25,
   "metadata": {},
   "outputs": [],
   "source": [
    "#plt.scatter(X[:, 0], X[:, 1], c=y, cmap=plt.cm.coolwarm)"
   ]
  },
  {
   "cell_type": "code",
   "execution_count": 26,
   "metadata": {
    "id": "CX3ms9o0R74c"
   },
   "outputs": [],
   "source": [
    "# X_test = cv.transform(X_test)"
   ]
  },
  {
   "cell_type": "markdown",
   "metadata": {
    "id": "K7P21PS9gwNJ"
   },
   "source": [
    "#train_test split\n"
   ]
  },
  {
   "cell_type": "code",
   "execution_count": 27,
   "metadata": {
    "id": "07ZqpifOdzkj"
   },
   "outputs": [],
   "source": [
    "X_train, X_test, y_train, y_test = train_test_split( X, y, test_size=0.2, random_state=0)"
   ]
  },
  {
   "cell_type": "code",
   "execution_count": 28,
   "metadata": {
    "id": "4tzoaE6KRFOZ"
   },
   "outputs": [],
   "source": [
    "#from yellowbrick.text import TSNEVisualizer\n",
    "#from sklearn.feature_extraction.text import TfidfVectorizer\n",
    "\n",
    "# vec = TfidfVectorizer(stop_words=\"english\")\n",
    "# transformed_text = vec.fit_transform(text)\n",
    "\n",
    "#fig = plt.figure(figsize=(9,9))\n",
    "#ax = fig.add_subplot(111)\n",
    "\n",
    "#tsne_viz = TSNEVisualizer(ax=ax,\n",
    "#                          decompose=\"svd\",\n",
    "#                          decompose_by=50,\n",
    "#                          colors=[\"tomato\", \"lime\"],\n",
    "#                          random_state=123)\n",
    "\n",
    "#tsne_viz.fit(X_train.toarray(), y_train)\n",
    "\n",
    "#tsne_viz.show();"
   ]
  },
  {
   "cell_type": "code",
   "execution_count": 29,
   "metadata": {
    "id": "OYcPawy1Rtq6"
   },
   "outputs": [],
   "source": [
    "# X_train = cv.fit_transform(X_train)"
   ]
  },
  {
   "cell_type": "code",
   "execution_count": 30,
   "metadata": {
    "id": "55GbIy2zRCYQ"
   },
   "outputs": [],
   "source": [
    "# print(X_train)"
   ]
  },
  {
   "cell_type": "markdown",
   "metadata": {
    "id": "8K0R0EDmgnSP"
   },
   "source": [
    "#training"
   ]
  },
  {
   "cell_type": "code",
   "execution_count": 31,
   "metadata": {
    "colab": {
     "base_uri": "https://localhost:8080/"
    },
    "id": "QCVeMsrVs8bp",
    "outputId": "a64ae4fd-3f39-4559-d936-c9deece7da4a"
   },
   "outputs": [
    {
     "name": "stdout",
     "output_type": "stream",
     "text": [
      "0.9798113519774946\n",
      "0.9798113519774946\n"
     ]
    }
   ],
   "source": [
    "classifier = SVC(kernel = 'linear',C=0.1, random_state = 0)\n",
    "classifier.fit(X_train, y_train)\n",
    "print(classifier.score(X_test,y_test))"
   ]
  },
  {
   "cell_type": "code",
   "execution_count": 32,
   "metadata": {
    "colab": {
     "base_uri": "https://localhost:8080/"
    },
    "id": "fnSIb-2j1E_s",
    "outputId": "3f6b4448-9060-4c69-853c-b086d776e546"
   },
   "outputs": [
    {
     "data": {
      "text/plain": [
       "0.9795370680979536"
      ]
     },
     "execution_count": 32,
     "metadata": {},
     "output_type": "execute_result"
    },
    {
     "data": {
      "text/plain": [
       "0.9795370680979536"
      ]
     },
     "execution_count": 32,
     "metadata": {},
     "output_type": "execute_result"
    }
   ],
   "source": [
    "y_pred = classifier.predict(X_test)\n",
    "f1_score(y_test,y_pred)"
   ]
  },
  {
   "cell_type": "code",
   "execution_count": 33,
   "metadata": {
    "colab": {
     "base_uri": "https://localhost:8080/"
    },
    "id": "Irgj9bto1RD9",
    "outputId": "842b99f3-fb3e-4fd9-8816-4ba10088ef4c"
   },
   "outputs": [
    {
     "name": "stdout",
     "output_type": "stream",
     "text": [
      "              precision    recall  f1-score   support\n",
      "\n",
      "           0       1.00      0.96      0.98      3117\n",
      "           1       0.96      1.00      0.98      2926\n",
      "\n",
      "    accuracy                           0.98      6043\n",
      "   macro avg       0.98      0.98      0.98      6043\n",
      "weighted avg       0.98      0.98      0.98      6043\n",
      "\n",
      "              precision    recall  f1-score   support\n",
      "\n",
      "           0       1.00      0.96      0.98      3117\n",
      "           1       0.96      1.00      0.98      2926\n",
      "\n",
      "    accuracy                           0.98      6043\n",
      "   macro avg       0.98      0.98      0.98      6043\n",
      "weighted avg       0.98      0.98      0.98      6043\n",
      "\n"
     ]
    }
   ],
   "source": [
    "print(classification_report(y_test, y_pred))"
   ]
  },
  {
   "cell_type": "markdown",
   "metadata": {},
   "source": [
    "Try cross validation"
   ]
  },
  {
   "cell_type": "code",
   "execution_count": 34,
   "metadata": {},
   "outputs": [
    {
     "name": "stdout",
     "output_type": "stream",
     "text": [
      "[0.98444739 0.9457313  0.97584381 0.96856386 0.97881496 0.97815293\n",
      " 0.97947699 0.96954651 0.95134062 0.94769944]\n",
      "[0.98444739 0.9457313  0.97584381 0.96856386 0.97881496 0.97815293\n",
      " 0.97947699 0.96954651 0.95134062 0.94769944]\n"
     ]
    }
   ],
   "source": [
    "scores = cross_val_score(classifier, X, y, cv=10)\n",
    "print (scores)"
   ]
  },
  {
   "cell_type": "code",
   "execution_count": null,
   "metadata": {
    "colab": {
     "base_uri": "https://localhost:8080/"
    },
    "id": "_UuC68Y8EKv3",
    "outputId": "fff822cf-c4ab-49e1-9cae-e88a57a1b4a5",
    "scrolled": true
   },
   "outputs": [],
   "source": [
    "from sklearn.model_selection import GridSearchCV\n",
    " \n",
    "param_grid = {'C': [0.01, 0.1, 1, 10, 100],'kernel': ['linear']}\n",
    " \n",
    "grid = GridSearchCV(SVC(), param_grid, refit = True, verbose = 3)\n",
    "pickle.dump(classifier, open(\"model.sav\", 'wb'))\n",
    "grid.fit(X_train, y_train)"
   ]
  },
  {
   "cell_type": "code",
   "execution_count": null,
   "metadata": {
    "id": "vFQENIadF8PN"
   },
   "outputs": [],
   "source": [
    "\n",
    "# print best parameter after tuning\n",
    "print(grid.best_params_)\n",
    " \n",
    "# print how our model looks after hyper-parameter tuning\n",
    "print(grid.best_estimator_)"
   ]
  },
  {
   "cell_type": "code",
   "execution_count": null,
   "metadata": {
    "id": "1TZlgNYeOI9L"
   },
   "outputs": [],
   "source": [
    "y_pred = classifier.predict(X_test)\n",
    "f1_score(y_test,y_pred)"
   ]
  },
  {
   "cell_type": "code",
   "execution_count": null,
   "metadata": {
    "id": "VS7kNhsrMtX2"
   },
   "outputs": [],
   "source": []
  },
  {
   "cell_type": "code",
   "execution_count": null,
   "metadata": {
    "id": "CmoNqpg49VSS"
   },
   "outputs": [],
   "source": [
    "#test new data set\n",
    "df2 = pd.read_csv(\"C:/Users/Window10Pro/Desktop/dataset/spam.csv\")\n",
    "df2.drop_duplicates(inplace = True)\n",
    "print(df2[\"Spam\"].value_counts())\n",
    "df2.head()"
   ]
  },
  {
   "cell_type": "code",
   "execution_count": null,
   "metadata": {
    "id": "1PpLtI5op9b8"
   },
   "outputs": [],
   "source": [
    "def binary_map(x):\n",
    "  return x.map({\"spam\":1, \"ham\":0})\n",
    "df2[['Spam']] = df2[['Spam']].apply(binary_map)\n",
    "print(df2['Spam'].unique())\n",
    "df2.head()"
   ]
  },
  {
   "cell_type": "code",
   "execution_count": null,
   "metadata": {
    "id": "A3OdBU7gwXqz"
   },
   "outputs": [],
   "source": [
    "df2.drop(['Unnamed: 2','Unnamed: 3','Unnamed: 4'], axis = 1, inplace = True)\n",
    "df2.head()"
   ]
  },
  {
   "cell_type": "code",
   "execution_count": null,
   "metadata": {
    "id": "xXSldIzgpJPK"
   },
   "outputs": [],
   "source": [
    "X2 = df2['text']\n",
    "y2 = df2['Spam']\n",
    "X_test2 = cv.transform(X2)\n",
    "X_test2 = vectorizer.transform(X_test2)\n",
    "y_pred2 = classifier.predict(X_test2)"
   ]
  },
  {
   "cell_type": "code",
   "execution_count": null,
   "metadata": {
    "id": "d_A0jTvdDiTY"
   },
   "outputs": [],
   "source": [
    "f1_score(y2,y_pred2)"
   ]
  },
  {
   "cell_type": "code",
   "execution_count": null,
   "metadata": {},
   "outputs": [],
   "source": [
    "confusion_matrix(y2, y_pred2)"
   ]
  },
  {
   "cell_type": "code",
   "execution_count": null,
   "metadata": {
    "id": "_JlqaukbWLih"
   },
   "outputs": [],
   "source": [
    "accuracy_score(y2,y_pred2)"
   ]
  },
  {
   "cell_type": "code",
   "execution_count": null,
   "metadata": {
    "id": "ys6MjdADjUdl"
   },
   "outputs": [],
   "source": [
    "print(classification_report(y2, y_pred2))"
   ]
  },
  {
   "cell_type": "code",
   "execution_count": null,
   "metadata": {
    "id": "_igovBzc1d4E"
   },
   "outputs": [],
   "source": [
    "data = {'text':X2,'pred': y_pred2,'correct': y2}\n",
    "output = pd.DataFrame(data)\n",
    "print(output)\n",
    "output.to_csv('output.csv')"
   ]
  },
  {
   "cell_type": "code",
   "execution_count": null,
   "metadata": {
    "id": "lsti_9H43BFR"
   },
   "outputs": [],
   "source": [
    "test_df = pd.read_csv(\"C:/Users/Window10Pro/Desktop/dataset/spam_ham_dataset.csv\")"
   ]
  },
  {
   "cell_type": "code",
   "execution_count": null,
   "metadata": {
    "id": "ff683Shm3MT6"
   },
   "outputs": [],
   "source": [
    "test_df.info()"
   ]
  },
  {
   "cell_type": "code",
   "execution_count": null,
   "metadata": {
    "id": "rb18mzE23MCB"
   },
   "outputs": [],
   "source": [
    "test_df.head()"
   ]
  },
  {
   "cell_type": "code",
   "execution_count": null,
   "metadata": {
    "id": "4-Z2P8CQ91CJ"
   },
   "outputs": [],
   "source": [
    "x3 = test_df['text']\n",
    "y3 = test_df['Spam']"
   ]
  },
  {
   "cell_type": "code",
   "execution_count": null,
   "metadata": {
    "id": "C_UzC_OT9-HI"
   },
   "outputs": [],
   "source": [
    "x3_test = cv.transform(x3)\n",
    "x3_test = vectorizer.transform(x3_test)\n",
    "y3_pred = classifier.predict(x3_test)"
   ]
  },
  {
   "cell_type": "code",
   "execution_count": null,
   "metadata": {
    "id": "ACs94mcQ-qQQ"
   },
   "outputs": [],
   "source": [
    "\n",
    "f1_score(y3,y3_pred)"
   ]
  },
  {
   "cell_type": "code",
   "execution_count": null,
   "metadata": {
    "id": "aqe9UPXMDsTO"
   },
   "outputs": [],
   "source": [
    "accuracy_score(y3,y3_pred)"
   ]
  },
  {
   "cell_type": "code",
   "execution_count": null,
   "metadata": {},
   "outputs": [],
   "source": [
    "data = {'text':x3,'pred': y3_pred,'correct': y3}\n",
    "output = pd.DataFrame(data)\n",
    "print(output)\n",
    "output.to_csv('output.csv')"
   ]
  },
  {
   "cell_type": "code",
   "execution_count": null,
   "metadata": {},
   "outputs": [],
   "source": [
    "confusion_matrix(y3, y3_pred)"
   ]
  },
  {
   "cell_type": "code",
   "execution_count": null,
   "metadata": {},
   "outputs": [],
   "source": [
    "tn, fp, fn, tp = confusion_matrix(y3, y3_pred).ravel()"
   ]
  },
  {
   "cell_type": "code",
   "execution_count": null,
   "metadata": {},
   "outputs": [],
   "source": [
    "print(tn, fp, fn, tp)"
   ]
  },
  {
   "cell_type": "code",
   "execution_count": null,
   "metadata": {},
   "outputs": [],
   "source": [
    "fp = pd.read_csv(\"C:/Users/Window10Pro/Desktop/dataset/output.csv\")"
   ]
  },
  {
   "cell_type": "code",
   "execution_count": null,
   "metadata": {},
   "outputs": [],
   "source": [
    "for i in fp[(fp['pred'] == 1 ) & (fp['correct'] == 0)]['text']:\n",
    "    print(i) "
   ]
  },
  {
   "cell_type": "code",
   "execution_count": 35,
   "metadata": {},
   "outputs": [
    {
     "data": {
      "text/plain": [
       "157241"
      ]
     },
     "execution_count": 35,
     "metadata": {},
     "output_type": "execute_result"
    },
    {
     "data": {
      "text/plain": [
       "157241"
      ]
     },
     "execution_count": 35,
     "metadata": {},
     "output_type": "execute_result"
    }
   ],
   "source": [
    "len(cv.get_feature_names_out())"
   ]
  },
  {
   "cell_type": "code",
   "execution_count": null,
   "metadata": {},
   "outputs": [],
   "source": []
  }
 ],
 "metadata": {
  "colab": {
   "collapsed_sections": [],
   "name": "spam_mail_detection_SVM.ipynb",
   "provenance": []
  },
  "kernelspec": {
   "display_name": "spam_mail",
   "language": "python",
   "name": "spam_classify"
  },
  "language_info": {
   "codemirror_mode": {
    "name": "ipython",
    "version": 3
   },
   "file_extension": ".py",
   "mimetype": "text/x-python",
   "name": "python",
   "nbconvert_exporter": "python",
   "pygments_lexer": "ipython3",
   "version": "3.9.7"
  }
 },
 "nbformat": 4,
 "nbformat_minor": 1
}
