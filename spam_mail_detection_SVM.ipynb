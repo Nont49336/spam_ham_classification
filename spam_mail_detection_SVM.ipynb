{
 "cells": [
  {
   "cell_type": "code",
   "execution_count": 1,
   "metadata": {
    "id": "R0MAZefIX7ff"
   },
   "outputs": [],
   "source": [
    "import numpy as np\n",
    "import pandas as pd\n",
    "import matplotlib.pyplot as plt\n",
    "from sklearn.model_selection import train_test_split,cross_val_score\n",
    "from sklearn.feature_extraction.text import CountVectorizer\n",
    "from sklearn.svm import SVC\n",
    "from sklearn.metrics import accuracy_score\n",
    "from sklearn.metrics import f1_score\n",
    "from sklearn.metrics import classification_report\n",
    "import yellowbrick\n",
    "from sklearn.metrics import confusion_matrix"
   ]
  },
  {
   "cell_type": "code",
   "execution_count": 2,
   "metadata": {
    "id": "UUx-bpzmXd6H"
   },
   "outputs": [],
   "source": [
    "# df = pd.read_csv(\"/content/drive/MyDrive/Ai data/spam_or_not_spam2.csv\")"
   ]
  },
  {
   "cell_type": "code",
   "execution_count": 3,
   "metadata": {
    "id": "c1SHzFvJ0o3e"
   },
   "outputs": [],
   "source": [
    "df = pd.read_csv(\"C:/Users/Window10Pro/Desktop/dataset/ham_spam.csv\")"
   ]
  },
  {
   "cell_type": "code",
   "execution_count": 4,
   "metadata": {
    "colab": {
     "base_uri": "https://localhost:8080/",
     "height": 423
    },
    "id": "9mOfvq3k2JT7",
    "outputId": "1c83e548-1af4-496e-8463-ac04b19eaa2b"
   },
   "outputs": [
    {
     "data": {
      "text/html": [
       "<div>\n",
       "<style scoped>\n",
       "    .dataframe tbody tr th:only-of-type {\n",
       "        vertical-align: middle;\n",
       "    }\n",
       "\n",
       "    .dataframe tbody tr th {\n",
       "        vertical-align: top;\n",
       "    }\n",
       "\n",
       "    .dataframe thead th {\n",
       "        text-align: right;\n",
       "    }\n",
       "</style>\n",
       "<table border=\"1\" class=\"dataframe\">\n",
       "  <thead>\n",
       "    <tr style=\"text-align: right;\">\n",
       "      <th></th>\n",
       "      <th>Text</th>\n",
       "      <th>Spam</th>\n",
       "    </tr>\n",
       "  </thead>\n",
       "  <tbody>\n",
       "    <tr>\n",
       "      <th>0</th>\n",
       "      <td>Subject: txu noms . for 10 / 14 - 16 / 00 atta...</td>\n",
       "      <td>0</td>\n",
       "    </tr>\n",
       "    <tr>\n",
       "      <th>1</th>\n",
       "      <td>Subject: re : nom / actual vols for 24 th - - ...</td>\n",
       "      <td>0</td>\n",
       "    </tr>\n",
       "    <tr>\n",
       "      <th>2</th>\n",
       "      <td>Subject: hpl noms for february 15 ; 2000 ( see...</td>\n",
       "      <td>0</td>\n",
       "    </tr>\n",
       "    <tr>\n",
       "      <th>3</th>\n",
       "      <td>Subject: fw : pooling contract template - - - ...</td>\n",
       "      <td>0</td>\n",
       "    </tr>\n",
       "    <tr>\n",
       "      <th>4</th>\n",
       "      <td>Subject: hpl nom . for may 26 - 29 ; 2001 ( se...</td>\n",
       "      <td>0</td>\n",
       "    </tr>\n",
       "    <tr>\n",
       "      <th>...</th>\n",
       "      <td>...</td>\n",
       "      <td>...</td>\n",
       "    </tr>\n",
       "    <tr>\n",
       "      <th>33711</th>\n",
       "      <td>Subject: you are our lucky winner ! ! de natio...</td>\n",
       "      <td>1</td>\n",
       "    </tr>\n",
       "    <tr>\n",
       "      <th>33712</th>\n",
       "      <td>Subject: i ' m a changed man dear sir / madam ...</td>\n",
       "      <td>1</td>\n",
       "    </tr>\n",
       "    <tr>\n",
       "      <th>33713</th>\n",
       "      <td>Subject: just to her . . . soft viagra at $ 1 ...</td>\n",
       "      <td>1</td>\n",
       "    </tr>\n",
       "    <tr>\n",
       "      <th>33714</th>\n",
       "      <td>Subject: save your money by getting an oem sof...</td>\n",
       "      <td>1</td>\n",
       "    </tr>\n",
       "    <tr>\n",
       "      <th>33715</th>\n",
       "      <td>Subject: new product ! cialis soft tabs . hi t...</td>\n",
       "      <td>1</td>\n",
       "    </tr>\n",
       "  </tbody>\n",
       "</table>\n",
       "<p>33716 rows × 2 columns</p>\n",
       "</div>"
      ],
      "text/plain": [
       "                                                    Text  Spam\n",
       "0      Subject: txu noms . for 10 / 14 - 16 / 00 atta...     0\n",
       "1      Subject: re : nom / actual vols for 24 th - - ...     0\n",
       "2      Subject: hpl noms for february 15 ; 2000 ( see...     0\n",
       "3      Subject: fw : pooling contract template - - - ...     0\n",
       "4      Subject: hpl nom . for may 26 - 29 ; 2001 ( se...     0\n",
       "...                                                  ...   ...\n",
       "33711  Subject: you are our lucky winner ! ! de natio...     1\n",
       "33712  Subject: i ' m a changed man dear sir / madam ...     1\n",
       "33713  Subject: just to her . . . soft viagra at $ 1 ...     1\n",
       "33714  Subject: save your money by getting an oem sof...     1\n",
       "33715  Subject: new product ! cialis soft tabs . hi t...     1\n",
       "\n",
       "[33716 rows x 2 columns]"
      ]
     },
     "execution_count": 4,
     "metadata": {},
     "output_type": "execute_result"
    }
   ],
   "source": [
    "df"
   ]
  },
  {
   "cell_type": "code",
   "execution_count": 5,
   "metadata": {
    "colab": {
     "base_uri": "https://localhost:8080/",
     "height": 258
    },
    "id": "M8z47oIvbx81",
    "outputId": "de30ef1a-4ed3-4690-ba7b-4b88d5eb4e4d"
   },
   "outputs": [
    {
     "name": "stdout",
     "output_type": "stream",
     "text": [
      "0    15635\n",
      "1    14579\n",
      "Name: Spam, dtype: int64\n"
     ]
    },
    {
     "data": {
      "text/html": [
       "<div>\n",
       "<style scoped>\n",
       "    .dataframe tbody tr th:only-of-type {\n",
       "        vertical-align: middle;\n",
       "    }\n",
       "\n",
       "    .dataframe tbody tr th {\n",
       "        vertical-align: top;\n",
       "    }\n",
       "\n",
       "    .dataframe thead th {\n",
       "        text-align: right;\n",
       "    }\n",
       "</style>\n",
       "<table border=\"1\" class=\"dataframe\">\n",
       "  <thead>\n",
       "    <tr style=\"text-align: right;\">\n",
       "      <th></th>\n",
       "      <th>Text</th>\n",
       "      <th>Spam</th>\n",
       "    </tr>\n",
       "  </thead>\n",
       "  <tbody>\n",
       "    <tr>\n",
       "      <th>0</th>\n",
       "      <td>Subject: txu noms . for 10 / 14 - 16 / 00 atta...</td>\n",
       "      <td>0</td>\n",
       "    </tr>\n",
       "    <tr>\n",
       "      <th>1</th>\n",
       "      <td>Subject: re : nom / actual vols for 24 th - - ...</td>\n",
       "      <td>0</td>\n",
       "    </tr>\n",
       "    <tr>\n",
       "      <th>2</th>\n",
       "      <td>Subject: hpl noms for february 15 ; 2000 ( see...</td>\n",
       "      <td>0</td>\n",
       "    </tr>\n",
       "    <tr>\n",
       "      <th>3</th>\n",
       "      <td>Subject: fw : pooling contract template - - - ...</td>\n",
       "      <td>0</td>\n",
       "    </tr>\n",
       "    <tr>\n",
       "      <th>4</th>\n",
       "      <td>Subject: hpl nom . for may 26 - 29 ; 2001 ( se...</td>\n",
       "      <td>0</td>\n",
       "    </tr>\n",
       "  </tbody>\n",
       "</table>\n",
       "</div>"
      ],
      "text/plain": [
       "                                                Text  Spam\n",
       "0  Subject: txu noms . for 10 / 14 - 16 / 00 atta...     0\n",
       "1  Subject: re : nom / actual vols for 24 th - - ...     0\n",
       "2  Subject: hpl noms for february 15 ; 2000 ( see...     0\n",
       "3  Subject: fw : pooling contract template - - - ...     0\n",
       "4  Subject: hpl nom . for may 26 - 29 ; 2001 ( se...     0"
      ]
     },
     "execution_count": 5,
     "metadata": {},
     "output_type": "execute_result"
    }
   ],
   "source": [
    "df.drop_duplicates(inplace = True)\n",
    "df = df.dropna()\n",
    "print(df[\"Spam\"].value_counts())\n",
    "df.head()"
   ]
  },
  {
   "cell_type": "code",
   "execution_count": 6,
   "metadata": {
    "colab": {
     "base_uri": "https://localhost:8080/"
    },
    "id": "AsnXeXZNha-b",
    "outputId": "209d9afe-bfe7-4192-b764-47136be77f06"
   },
   "outputs": [
    {
     "name": "stdout",
     "output_type": "stream",
     "text": [
      "<class 'pandas.core.frame.DataFrame'>\n",
      "Int64Index: 30214 entries, 0 to 33715\n",
      "Data columns (total 2 columns):\n",
      " #   Column  Non-Null Count  Dtype \n",
      "---  ------  --------------  ----- \n",
      " 0   Text    30214 non-null  object\n",
      " 1   Spam    30214 non-null  int64 \n",
      "dtypes: int64(1), object(1)\n",
      "memory usage: 708.1+ KB\n"
     ]
    }
   ],
   "source": [
    "df.info()"
   ]
  },
  {
   "cell_type": "markdown",
   "metadata": {
    "id": "QP1P-fTXYnM6"
   },
   "source": [
    "#clean data that is not 1 and 0 in Spam"
   ]
  },
  {
   "cell_type": "code",
   "execution_count": 7,
   "metadata": {
    "colab": {
     "base_uri": "https://localhost:8080/",
     "height": 258
    },
    "id": "UG5Z5_sVslwU",
    "outputId": "07d1b2e3-1bd8-4b79-ec76-ca67a53b887d"
   },
   "outputs": [
    {
     "name": "stdout",
     "output_type": "stream",
     "text": [
      "0    15635\n",
      "1    14579\n",
      "Name: Spam, dtype: int64\n"
     ]
    },
    {
     "data": {
      "text/html": [
       "<div>\n",
       "<style scoped>\n",
       "    .dataframe tbody tr th:only-of-type {\n",
       "        vertical-align: middle;\n",
       "    }\n",
       "\n",
       "    .dataframe tbody tr th {\n",
       "        vertical-align: top;\n",
       "    }\n",
       "\n",
       "    .dataframe thead th {\n",
       "        text-align: right;\n",
       "    }\n",
       "</style>\n",
       "<table border=\"1\" class=\"dataframe\">\n",
       "  <thead>\n",
       "    <tr style=\"text-align: right;\">\n",
       "      <th></th>\n",
       "      <th>Text</th>\n",
       "      <th>Spam</th>\n",
       "    </tr>\n",
       "  </thead>\n",
       "  <tbody>\n",
       "    <tr>\n",
       "      <th>0</th>\n",
       "      <td>Subject: txu noms . for 10 / 14 - 16 / 00 atta...</td>\n",
       "      <td>0</td>\n",
       "    </tr>\n",
       "    <tr>\n",
       "      <th>1</th>\n",
       "      <td>Subject: re : nom / actual vols for 24 th - - ...</td>\n",
       "      <td>0</td>\n",
       "    </tr>\n",
       "    <tr>\n",
       "      <th>2</th>\n",
       "      <td>Subject: hpl noms for february 15 ; 2000 ( see...</td>\n",
       "      <td>0</td>\n",
       "    </tr>\n",
       "    <tr>\n",
       "      <th>3</th>\n",
       "      <td>Subject: fw : pooling contract template - - - ...</td>\n",
       "      <td>0</td>\n",
       "    </tr>\n",
       "    <tr>\n",
       "      <th>4</th>\n",
       "      <td>Subject: hpl nom . for may 26 - 29 ; 2001 ( se...</td>\n",
       "      <td>0</td>\n",
       "    </tr>\n",
       "  </tbody>\n",
       "</table>\n",
       "</div>"
      ],
      "text/plain": [
       "                                                Text  Spam\n",
       "0  Subject: txu noms . for 10 / 14 - 16 / 00 atta...     0\n",
       "1  Subject: re : nom / actual vols for 24 th - - ...     0\n",
       "2  Subject: hpl noms for february 15 ; 2000 ( see...     0\n",
       "3  Subject: fw : pooling contract template - - - ...     0\n",
       "4  Subject: hpl nom . for may 26 - 29 ; 2001 ( se...     0"
      ]
     },
     "execution_count": 7,
     "metadata": {},
     "output_type": "execute_result"
    }
   ],
   "source": [
    "dfclean = df.drop(df[(df['Spam'] != 0 ) & (df['Spam'] != 1)].index)\n",
    "print(dfclean[\"Spam\"].value_counts())\n",
    "dfclean.head()"
   ]
  },
  {
   "cell_type": "code",
   "execution_count": 8,
   "metadata": {
    "colab": {
     "base_uri": "https://localhost:8080/",
     "height": 52
    },
    "id": "vgRPKyk90ej4",
    "outputId": "f4ed3dc4-cba0-4985-9ac9-86e294b5159c"
   },
   "outputs": [
    {
     "data": {
      "text/plain": [
       "'Subject: txu noms . for 10 / 14 - 16 / 00 attached ; please find the txu nominations for the weekend of october 14 - 16 ; 2000 . no scheduled flows ( see attached file : hplnl 014 . xls ) - hplnl 014 . xls'"
      ]
     },
     "execution_count": 8,
     "metadata": {},
     "output_type": "execute_result"
    }
   ],
   "source": [
    "dfclean['Text'][0]"
   ]
  },
  {
   "cell_type": "code",
   "execution_count": 9,
   "metadata": {
    "id": "rXJw69azsg1Z"
   },
   "outputs": [],
   "source": [
    "X = dfclean['Text']\n",
    "y = dfclean['Spam'].astype(int)"
   ]
  },
  {
   "cell_type": "code",
   "execution_count": 10,
   "metadata": {
    "id": "mgcSOYmUgV3G"
   },
   "outputs": [],
   "source": [
    "cv = CountVectorizer()"
   ]
  },
  {
   "cell_type": "code",
   "execution_count": 11,
   "metadata": {
    "id": "Sk7J7729uLay"
   },
   "outputs": [],
   "source": [
    "X = cv.fit_transform(X)"
   ]
  },
  {
   "cell_type": "markdown",
   "metadata": {
    "id": "pPqAo24KZAzn"
   },
   "source": [
    "#plot the data"
   ]
  },
  {
   "cell_type": "code",
   "execution_count": 12,
   "metadata": {},
   "outputs": [],
   "source": [
    "#plt.scatter(X[:, 0], X[:, 1], c=y, cmap=plt.cm.coolwarm)"
   ]
  },
  {
   "cell_type": "code",
   "execution_count": 13,
   "metadata": {
    "id": "CX3ms9o0R74c"
   },
   "outputs": [],
   "source": [
    "# X_test = cv.transform(X_test)"
   ]
  },
  {
   "cell_type": "markdown",
   "metadata": {
    "id": "K7P21PS9gwNJ"
   },
   "source": [
    "#train_test split\n"
   ]
  },
  {
   "cell_type": "code",
   "execution_count": 14,
   "metadata": {
    "id": "07ZqpifOdzkj"
   },
   "outputs": [],
   "source": [
    "X_train, X_test, y_train, y_test = train_test_split( X, y, test_size=0.2, random_state=0)"
   ]
  },
  {
   "cell_type": "code",
   "execution_count": 15,
   "metadata": {
    "id": "4tzoaE6KRFOZ"
   },
   "outputs": [],
   "source": [
    "#from yellowbrick.text import TSNEVisualizer\n",
    "#from sklearn.feature_extraction.text import TfidfVectorizer\n",
    "\n",
    "# vec = TfidfVectorizer(stop_words=\"english\")\n",
    "# transformed_text = vec.fit_transform(text)\n",
    "\n",
    "#fig = plt.figure(figsize=(9,9))\n",
    "#ax = fig.add_subplot(111)\n",
    "\n",
    "#tsne_viz = TSNEVisualizer(ax=ax,\n",
    "#                          decompose=\"svd\",\n",
    "#                          decompose_by=50,\n",
    "#                          colors=[\"tomato\", \"lime\"],\n",
    "#                          random_state=123)\n",
    "\n",
    "#tsne_viz.fit(X_train.toarray(), y_train)\n",
    "\n",
    "#tsne_viz.show();"
   ]
  },
  {
   "cell_type": "code",
   "execution_count": 16,
   "metadata": {
    "id": "OYcPawy1Rtq6"
   },
   "outputs": [],
   "source": [
    "# X_train = cv.fit_transform(X_train)"
   ]
  },
  {
   "cell_type": "code",
   "execution_count": 17,
   "metadata": {
    "id": "55GbIy2zRCYQ"
   },
   "outputs": [],
   "source": [
    "# print(X_train)"
   ]
  },
  {
   "cell_type": "markdown",
   "metadata": {
    "id": "8K0R0EDmgnSP"
   },
   "source": [
    "#training"
   ]
  },
  {
   "cell_type": "code",
   "execution_count": 18,
   "metadata": {
    "colab": {
     "base_uri": "https://localhost:8080/"
    },
    "id": "QCVeMsrVs8bp",
    "outputId": "a64ae4fd-3f39-4559-d936-c9deece7da4a"
   },
   "outputs": [
    {
     "name": "stdout",
     "output_type": "stream",
     "text": [
      "0.9844448121793811\n"
     ]
    }
   ],
   "source": [
    "classifier = SVC(kernel = 'linear',C=0.1)\n",
    "classifier.fit(X_train, y_train)\n",
    "print(classifier.score(X_test,y_test))"
   ]
  },
  {
   "cell_type": "code",
   "execution_count": 19,
   "metadata": {
    "colab": {
     "base_uri": "https://localhost:8080/"
    },
    "id": "fnSIb-2j1E_s",
    "outputId": "3f6b4448-9060-4c69-853c-b086d776e546"
   },
   "outputs": [
    {
     "data": {
      "text/plain": [
       "0.9840244731475187"
      ]
     },
     "execution_count": 19,
     "metadata": {},
     "output_type": "execute_result"
    }
   ],
   "source": [
    "y_pred = classifier.predict(X_test)\n",
    "f1_score(y_test,y_pred)"
   ]
  },
  {
   "cell_type": "code",
   "execution_count": 20,
   "metadata": {
    "colab": {
     "base_uri": "https://localhost:8080/"
    },
    "id": "Irgj9bto1RD9",
    "outputId": "842b99f3-fb3e-4fd9-8816-4ba10088ef4c"
   },
   "outputs": [
    {
     "name": "stdout",
     "output_type": "stream",
     "text": [
      "              precision    recall  f1-score   support\n",
      "\n",
      "           0       0.99      0.98      0.98      3117\n",
      "           1       0.98      0.99      0.98      2926\n",
      "\n",
      "    accuracy                           0.98      6043\n",
      "   macro avg       0.98      0.98      0.98      6043\n",
      "weighted avg       0.98      0.98      0.98      6043\n",
      "\n"
     ]
    }
   ],
   "source": [
    "print(classification_report(y_test, y_pred))"
   ]
  },
  {
   "cell_type": "markdown",
   "metadata": {},
   "source": [
    "Try cross validation"
   ]
  },
  {
   "cell_type": "code",
   "execution_count": 21,
   "metadata": {},
   "outputs": [
    {
     "name": "stdout",
     "output_type": "stream",
     "text": [
      "[0.98841827 0.9602912  0.98643283 0.98444739 0.98642833 0.9857663\n",
      " 0.98212512 0.97914598 0.98841443 0.97252565]\n"
     ]
    }
   ],
   "source": [
    "scores = cross_val_score(classifier, X, y, cv=10)\n",
    "print (scores)"
   ]
  },
  {
   "cell_type": "code",
   "execution_count": null,
   "metadata": {
    "colab": {
     "base_uri": "https://localhost:8080/"
    },
    "id": "_UuC68Y8EKv3",
    "outputId": "fff822cf-c4ab-49e1-9cae-e88a57a1b4a5",
    "scrolled": true
   },
   "outputs": [],
   "source": [
    "from sklearn.model_selection import GridSearchCV\n",
    " \n",
    "param_grid = {'C': [0.01, 0.1, 1, 10, 100],'kernel': ['linear']}\n",
    " \n",
    "grid = GridSearchCV(SVC(), param_grid, refit = True, verbose = 3)\n",
    "grid.fit(X_train, y_train)"
   ]
  },
  {
   "cell_type": "code",
   "execution_count": null,
   "metadata": {
    "id": "vFQENIadF8PN"
   },
   "outputs": [],
   "source": [
    "\n",
    "# print best parameter after tuning\n",
    "print(grid.best_params_)\n",
    " \n",
    "# print how our model looks after hyper-parameter tuning\n",
    "print(grid.best_estimator_)"
   ]
  },
  {
   "cell_type": "code",
   "execution_count": 22,
   "metadata": {
    "id": "1TZlgNYeOI9L"
   },
   "outputs": [
    {
     "data": {
      "text/plain": [
       "0.9840244731475187"
      ]
     },
     "execution_count": 22,
     "metadata": {},
     "output_type": "execute_result"
    }
   ],
   "source": [
    "y_pred = classifier.predict(X_test)\n",
    "f1_score(y_test,y_pred)"
   ]
  },
  {
   "cell_type": "code",
   "execution_count": 23,
   "metadata": {
    "id": "CmoNqpg49VSS"
   },
   "outputs": [
    {
     "name": "stdout",
     "output_type": "stream",
     "text": [
      "ham     4516\n",
      "spam     653\n",
      "Name: Spam, dtype: int64\n"
     ]
    },
    {
     "data": {
      "text/html": [
       "<div>\n",
       "<style scoped>\n",
       "    .dataframe tbody tr th:only-of-type {\n",
       "        vertical-align: middle;\n",
       "    }\n",
       "\n",
       "    .dataframe tbody tr th {\n",
       "        vertical-align: top;\n",
       "    }\n",
       "\n",
       "    .dataframe thead th {\n",
       "        text-align: right;\n",
       "    }\n",
       "</style>\n",
       "<table border=\"1\" class=\"dataframe\">\n",
       "  <thead>\n",
       "    <tr style=\"text-align: right;\">\n",
       "      <th></th>\n",
       "      <th>Spam</th>\n",
       "      <th>text</th>\n",
       "      <th>Unnamed: 2</th>\n",
       "      <th>Unnamed: 3</th>\n",
       "      <th>Unnamed: 4</th>\n",
       "    </tr>\n",
       "  </thead>\n",
       "  <tbody>\n",
       "    <tr>\n",
       "      <th>0</th>\n",
       "      <td>ham</td>\n",
       "      <td>Go until jurong point, crazy.. Available only ...</td>\n",
       "      <td>NaN</td>\n",
       "      <td>NaN</td>\n",
       "      <td>NaN</td>\n",
       "    </tr>\n",
       "    <tr>\n",
       "      <th>1</th>\n",
       "      <td>ham</td>\n",
       "      <td>Ok lar... Joking wif u oni...</td>\n",
       "      <td>NaN</td>\n",
       "      <td>NaN</td>\n",
       "      <td>NaN</td>\n",
       "    </tr>\n",
       "    <tr>\n",
       "      <th>2</th>\n",
       "      <td>spam</td>\n",
       "      <td>Free entry in 2 a wkly comp to win FA Cup fina...</td>\n",
       "      <td>NaN</td>\n",
       "      <td>NaN</td>\n",
       "      <td>NaN</td>\n",
       "    </tr>\n",
       "    <tr>\n",
       "      <th>3</th>\n",
       "      <td>ham</td>\n",
       "      <td>U dun say so early hor... U c already then say...</td>\n",
       "      <td>NaN</td>\n",
       "      <td>NaN</td>\n",
       "      <td>NaN</td>\n",
       "    </tr>\n",
       "    <tr>\n",
       "      <th>4</th>\n",
       "      <td>ham</td>\n",
       "      <td>Nah I don't think he goes to usf, he lives aro...</td>\n",
       "      <td>NaN</td>\n",
       "      <td>NaN</td>\n",
       "      <td>NaN</td>\n",
       "    </tr>\n",
       "  </tbody>\n",
       "</table>\n",
       "</div>"
      ],
      "text/plain": [
       "   Spam                                               text Unnamed: 2  \\\n",
       "0   ham  Go until jurong point, crazy.. Available only ...        NaN   \n",
       "1   ham                      Ok lar... Joking wif u oni...        NaN   \n",
       "2  spam  Free entry in 2 a wkly comp to win FA Cup fina...        NaN   \n",
       "3   ham  U dun say so early hor... U c already then say...        NaN   \n",
       "4   ham  Nah I don't think he goes to usf, he lives aro...        NaN   \n",
       "\n",
       "  Unnamed: 3 Unnamed: 4  \n",
       "0        NaN        NaN  \n",
       "1        NaN        NaN  \n",
       "2        NaN        NaN  \n",
       "3        NaN        NaN  \n",
       "4        NaN        NaN  "
      ]
     },
     "execution_count": 23,
     "metadata": {},
     "output_type": "execute_result"
    }
   ],
   "source": [
    "#test new data set\n",
    "df2 = pd.read_csv(\"C:/Users/Window10Pro/Desktop/dataset/spam.csv\")\n",
    "df2.drop_duplicates(inplace = True)\n",
    "print(df2[\"Spam\"].value_counts())\n",
    "df2.head()"
   ]
  },
  {
   "cell_type": "code",
   "execution_count": 24,
   "metadata": {
    "id": "1PpLtI5op9b8"
   },
   "outputs": [
    {
     "name": "stdout",
     "output_type": "stream",
     "text": [
      "[0 1]\n"
     ]
    },
    {
     "data": {
      "text/html": [
       "<div>\n",
       "<style scoped>\n",
       "    .dataframe tbody tr th:only-of-type {\n",
       "        vertical-align: middle;\n",
       "    }\n",
       "\n",
       "    .dataframe tbody tr th {\n",
       "        vertical-align: top;\n",
       "    }\n",
       "\n",
       "    .dataframe thead th {\n",
       "        text-align: right;\n",
       "    }\n",
       "</style>\n",
       "<table border=\"1\" class=\"dataframe\">\n",
       "  <thead>\n",
       "    <tr style=\"text-align: right;\">\n",
       "      <th></th>\n",
       "      <th>Spam</th>\n",
       "      <th>text</th>\n",
       "      <th>Unnamed: 2</th>\n",
       "      <th>Unnamed: 3</th>\n",
       "      <th>Unnamed: 4</th>\n",
       "    </tr>\n",
       "  </thead>\n",
       "  <tbody>\n",
       "    <tr>\n",
       "      <th>0</th>\n",
       "      <td>0</td>\n",
       "      <td>Go until jurong point, crazy.. Available only ...</td>\n",
       "      <td>NaN</td>\n",
       "      <td>NaN</td>\n",
       "      <td>NaN</td>\n",
       "    </tr>\n",
       "    <tr>\n",
       "      <th>1</th>\n",
       "      <td>0</td>\n",
       "      <td>Ok lar... Joking wif u oni...</td>\n",
       "      <td>NaN</td>\n",
       "      <td>NaN</td>\n",
       "      <td>NaN</td>\n",
       "    </tr>\n",
       "    <tr>\n",
       "      <th>2</th>\n",
       "      <td>1</td>\n",
       "      <td>Free entry in 2 a wkly comp to win FA Cup fina...</td>\n",
       "      <td>NaN</td>\n",
       "      <td>NaN</td>\n",
       "      <td>NaN</td>\n",
       "    </tr>\n",
       "    <tr>\n",
       "      <th>3</th>\n",
       "      <td>0</td>\n",
       "      <td>U dun say so early hor... U c already then say...</td>\n",
       "      <td>NaN</td>\n",
       "      <td>NaN</td>\n",
       "      <td>NaN</td>\n",
       "    </tr>\n",
       "    <tr>\n",
       "      <th>4</th>\n",
       "      <td>0</td>\n",
       "      <td>Nah I don't think he goes to usf, he lives aro...</td>\n",
       "      <td>NaN</td>\n",
       "      <td>NaN</td>\n",
       "      <td>NaN</td>\n",
       "    </tr>\n",
       "  </tbody>\n",
       "</table>\n",
       "</div>"
      ],
      "text/plain": [
       "   Spam                                               text Unnamed: 2  \\\n",
       "0     0  Go until jurong point, crazy.. Available only ...        NaN   \n",
       "1     0                      Ok lar... Joking wif u oni...        NaN   \n",
       "2     1  Free entry in 2 a wkly comp to win FA Cup fina...        NaN   \n",
       "3     0  U dun say so early hor... U c already then say...        NaN   \n",
       "4     0  Nah I don't think he goes to usf, he lives aro...        NaN   \n",
       "\n",
       "  Unnamed: 3 Unnamed: 4  \n",
       "0        NaN        NaN  \n",
       "1        NaN        NaN  \n",
       "2        NaN        NaN  \n",
       "3        NaN        NaN  \n",
       "4        NaN        NaN  "
      ]
     },
     "execution_count": 24,
     "metadata": {},
     "output_type": "execute_result"
    }
   ],
   "source": [
    "def binary_map(x):\n",
    "  return x.map({\"spam\":1, \"ham\":0})\n",
    "df2[['Spam']] = df2[['Spam']].apply(binary_map)\n",
    "print(df2['Spam'].unique())\n",
    "df2.head()"
   ]
  },
  {
   "cell_type": "code",
   "execution_count": 25,
   "metadata": {
    "id": "A3OdBU7gwXqz"
   },
   "outputs": [
    {
     "data": {
      "text/html": [
       "<div>\n",
       "<style scoped>\n",
       "    .dataframe tbody tr th:only-of-type {\n",
       "        vertical-align: middle;\n",
       "    }\n",
       "\n",
       "    .dataframe tbody tr th {\n",
       "        vertical-align: top;\n",
       "    }\n",
       "\n",
       "    .dataframe thead th {\n",
       "        text-align: right;\n",
       "    }\n",
       "</style>\n",
       "<table border=\"1\" class=\"dataframe\">\n",
       "  <thead>\n",
       "    <tr style=\"text-align: right;\">\n",
       "      <th></th>\n",
       "      <th>Spam</th>\n",
       "      <th>text</th>\n",
       "    </tr>\n",
       "  </thead>\n",
       "  <tbody>\n",
       "    <tr>\n",
       "      <th>0</th>\n",
       "      <td>0</td>\n",
       "      <td>Go until jurong point, crazy.. Available only ...</td>\n",
       "    </tr>\n",
       "    <tr>\n",
       "      <th>1</th>\n",
       "      <td>0</td>\n",
       "      <td>Ok lar... Joking wif u oni...</td>\n",
       "    </tr>\n",
       "    <tr>\n",
       "      <th>2</th>\n",
       "      <td>1</td>\n",
       "      <td>Free entry in 2 a wkly comp to win FA Cup fina...</td>\n",
       "    </tr>\n",
       "    <tr>\n",
       "      <th>3</th>\n",
       "      <td>0</td>\n",
       "      <td>U dun say so early hor... U c already then say...</td>\n",
       "    </tr>\n",
       "    <tr>\n",
       "      <th>4</th>\n",
       "      <td>0</td>\n",
       "      <td>Nah I don't think he goes to usf, he lives aro...</td>\n",
       "    </tr>\n",
       "  </tbody>\n",
       "</table>\n",
       "</div>"
      ],
      "text/plain": [
       "   Spam                                               text\n",
       "0     0  Go until jurong point, crazy.. Available only ...\n",
       "1     0                      Ok lar... Joking wif u oni...\n",
       "2     1  Free entry in 2 a wkly comp to win FA Cup fina...\n",
       "3     0  U dun say so early hor... U c already then say...\n",
       "4     0  Nah I don't think he goes to usf, he lives aro..."
      ]
     },
     "execution_count": 25,
     "metadata": {},
     "output_type": "execute_result"
    }
   ],
   "source": [
    "df2.drop(['Unnamed: 2','Unnamed: 3','Unnamed: 4'], axis = 1, inplace = True)\n",
    "df2.head()"
   ]
  },
  {
   "cell_type": "code",
   "execution_count": 26,
   "metadata": {
    "id": "xXSldIzgpJPK"
   },
   "outputs": [],
   "source": [
    "X2 = df2['text']\n",
    "y2 = df2['Spam']\n",
    "X_test2 = cv.transform(X2)\n",
    "y_pred2 = classifier.predict(X_test2)"
   ]
  },
  {
   "cell_type": "code",
   "execution_count": 27,
   "metadata": {
    "id": "d_A0jTvdDiTY"
   },
   "outputs": [
    {
     "data": {
      "text/plain": [
       "0.22405841660261336"
      ]
     },
     "execution_count": 27,
     "metadata": {},
     "output_type": "execute_result"
    }
   ],
   "source": [
    "f1_score(y2,y_pred2)"
   ]
  },
  {
   "cell_type": "code",
   "execution_count": 28,
   "metadata": {},
   "outputs": [
    {
     "data": {
      "text/plain": [
       "array([[ 548, 3968],\n",
       "       [  70,  583]], dtype=int64)"
      ]
     },
     "execution_count": 28,
     "metadata": {},
     "output_type": "execute_result"
    }
   ],
   "source": [
    "confusion_matrix(y2, y_pred2)"
   ]
  },
  {
   "cell_type": "code",
   "execution_count": 29,
   "metadata": {
    "id": "_JlqaukbWLih"
   },
   "outputs": [
    {
     "data": {
      "text/plain": [
       "0.2188044109112014"
      ]
     },
     "execution_count": 29,
     "metadata": {},
     "output_type": "execute_result"
    }
   ],
   "source": [
    "accuracy_score(y2,y_pred2)"
   ]
  },
  {
   "cell_type": "code",
   "execution_count": 30,
   "metadata": {
    "id": "ys6MjdADjUdl"
   },
   "outputs": [
    {
     "name": "stdout",
     "output_type": "stream",
     "text": [
      "              precision    recall  f1-score   support\n",
      "\n",
      "           0       0.89      0.12      0.21      4516\n",
      "           1       0.13      0.89      0.22       653\n",
      "\n",
      "    accuracy                           0.22      5169\n",
      "   macro avg       0.51      0.51      0.22      5169\n",
      "weighted avg       0.79      0.22      0.21      5169\n",
      "\n"
     ]
    }
   ],
   "source": [
    "print(classification_report(y2, y_pred2))"
   ]
  },
  {
   "cell_type": "code",
   "execution_count": 31,
   "metadata": {
    "id": "_igovBzc1d4E"
   },
   "outputs": [
    {
     "name": "stdout",
     "output_type": "stream",
     "text": [
      "                                                   text  pred  correct\n",
      "0     Go until jurong point, crazy.. Available only ...     1        0\n",
      "1                         Ok lar... Joking wif u oni...     1        0\n",
      "2     Free entry in 2 a wkly comp to win FA Cup fina...     1        1\n",
      "3     U dun say so early hor... U c already then say...     1        0\n",
      "4     Nah I don't think he goes to usf, he lives aro...     1        0\n",
      "...                                                 ...   ...      ...\n",
      "5567  This is the 2nd time we have tried 2 contact u...     1        1\n",
      "5568              Will Ì_ b going to esplanade fr home?     0        0\n",
      "5569  Pity, * was in mood for that. So...any other s...     1        0\n",
      "5570  The guy did some bitching but I acted like i'd...     1        0\n",
      "5571                         Rofl. Its true to its name     1        0\n",
      "\n",
      "[5169 rows x 3 columns]\n"
     ]
    }
   ],
   "source": [
    "data = {'text':X2,'pred': y_pred2,'correct': y2}\n",
    "output = pd.DataFrame(data)\n",
    "print(output)\n",
    "output.to_csv('output.csv')"
   ]
  },
  {
   "cell_type": "code",
   "execution_count": 32,
   "metadata": {
    "id": "lsti_9H43BFR"
   },
   "outputs": [],
   "source": [
    "test_df = pd.read_csv(\"C:/Users/Window10Pro/Desktop/dataset/spam_ham_dataset.csv\")"
   ]
  },
  {
   "cell_type": "code",
   "execution_count": 33,
   "metadata": {
    "id": "ff683Shm3MT6"
   },
   "outputs": [
    {
     "name": "stdout",
     "output_type": "stream",
     "text": [
      "<class 'pandas.core.frame.DataFrame'>\n",
      "RangeIndex: 5171 entries, 0 to 5170\n",
      "Data columns (total 2 columns):\n",
      " #   Column  Non-Null Count  Dtype \n",
      "---  ------  --------------  ----- \n",
      " 0   text    5171 non-null   object\n",
      " 1   Spam    5171 non-null   int64 \n",
      "dtypes: int64(1), object(1)\n",
      "memory usage: 80.9+ KB\n"
     ]
    }
   ],
   "source": [
    "test_df.info()"
   ]
  },
  {
   "cell_type": "code",
   "execution_count": 34,
   "metadata": {
    "id": "rb18mzE23MCB"
   },
   "outputs": [
    {
     "data": {
      "text/html": [
       "<div>\n",
       "<style scoped>\n",
       "    .dataframe tbody tr th:only-of-type {\n",
       "        vertical-align: middle;\n",
       "    }\n",
       "\n",
       "    .dataframe tbody tr th {\n",
       "        vertical-align: top;\n",
       "    }\n",
       "\n",
       "    .dataframe thead th {\n",
       "        text-align: right;\n",
       "    }\n",
       "</style>\n",
       "<table border=\"1\" class=\"dataframe\">\n",
       "  <thead>\n",
       "    <tr style=\"text-align: right;\">\n",
       "      <th></th>\n",
       "      <th>text</th>\n",
       "      <th>Spam</th>\n",
       "    </tr>\n",
       "  </thead>\n",
       "  <tbody>\n",
       "    <tr>\n",
       "      <th>0</th>\n",
       "      <td>Subject: enron methanol ; meter # : 988291\\r\\n...</td>\n",
       "      <td>0</td>\n",
       "    </tr>\n",
       "    <tr>\n",
       "      <th>1</th>\n",
       "      <td>Subject: hpl nom for january 9 , 2001\\r\\n( see...</td>\n",
       "      <td>0</td>\n",
       "    </tr>\n",
       "    <tr>\n",
       "      <th>2</th>\n",
       "      <td>Subject: neon retreat\\r\\nho ho ho , we ' re ar...</td>\n",
       "      <td>0</td>\n",
       "    </tr>\n",
       "    <tr>\n",
       "      <th>3</th>\n",
       "      <td>Subject: photoshop , windows , office . cheap ...</td>\n",
       "      <td>1</td>\n",
       "    </tr>\n",
       "    <tr>\n",
       "      <th>4</th>\n",
       "      <td>Subject: re : indian springs\\r\\nthis deal is t...</td>\n",
       "      <td>0</td>\n",
       "    </tr>\n",
       "  </tbody>\n",
       "</table>\n",
       "</div>"
      ],
      "text/plain": [
       "                                                text  Spam\n",
       "0  Subject: enron methanol ; meter # : 988291\\r\\n...     0\n",
       "1  Subject: hpl nom for january 9 , 2001\\r\\n( see...     0\n",
       "2  Subject: neon retreat\\r\\nho ho ho , we ' re ar...     0\n",
       "3  Subject: photoshop , windows , office . cheap ...     1\n",
       "4  Subject: re : indian springs\\r\\nthis deal is t...     0"
      ]
     },
     "execution_count": 34,
     "metadata": {},
     "output_type": "execute_result"
    }
   ],
   "source": [
    "test_df.head()"
   ]
  },
  {
   "cell_type": "code",
   "execution_count": 35,
   "metadata": {
    "id": "4-Z2P8CQ91CJ"
   },
   "outputs": [],
   "source": [
    "x3 = test_df['text']\n",
    "y3 = test_df['Spam']"
   ]
  },
  {
   "cell_type": "code",
   "execution_count": 36,
   "metadata": {
    "id": "C_UzC_OT9-HI"
   },
   "outputs": [],
   "source": [
    "x3_test = cv.transform(x3)\n",
    "y3_pred = classifier.predict(x3_test)"
   ]
  },
  {
   "cell_type": "code",
   "execution_count": 37,
   "metadata": {
    "id": "ACs94mcQ-qQQ"
   },
   "outputs": [
    {
     "data": {
      "text/plain": [
       "0.988771466314399"
      ]
     },
     "execution_count": 37,
     "metadata": {},
     "output_type": "execute_result"
    }
   ],
   "source": [
    "f1_score(y3,y3_pred)"
   ]
  },
  {
   "cell_type": "code",
   "execution_count": 38,
   "metadata": {
    "id": "aqe9UPXMDsTO"
   },
   "outputs": [
    {
     "data": {
      "text/plain": [
       "0.9934248694643203"
      ]
     },
     "execution_count": 38,
     "metadata": {},
     "output_type": "execute_result"
    }
   ],
   "source": [
    "accuracy_score(y3,y3_pred)"
   ]
  },
  {
   "cell_type": "code",
   "execution_count": 39,
   "metadata": {},
   "outputs": [
    {
     "name": "stdout",
     "output_type": "stream",
     "text": [
      "                                                   text  pred  correct\n",
      "0     Subject: enron methanol ; meter # : 988291\\r\\n...     0        0\n",
      "1     Subject: hpl nom for january 9 , 2001\\r\\n( see...     0        0\n",
      "2     Subject: neon retreat\\r\\nho ho ho , we ' re ar...     0        0\n",
      "3     Subject: photoshop , windows , office . cheap ...     1        1\n",
      "4     Subject: re : indian springs\\r\\nthis deal is t...     0        0\n",
      "...                                                 ...   ...      ...\n",
      "5166  Subject: put the 10 on the ft\\r\\nthe transport...     0        0\n",
      "5167  Subject: 3 / 4 / 2000 and following noms\\r\\nhp...     0        0\n",
      "5168  Subject: calpine daily gas nomination\\r\\n>\\r\\n...     0        0\n",
      "5169  Subject: industrial worksheets for august 2000...     0        0\n",
      "5170  Subject: important online banking alert\\r\\ndea...     1        1\n",
      "\n",
      "[5171 rows x 3 columns]\n"
     ]
    }
   ],
   "source": [
    "data = {'text':x3,'pred': y3_pred,'correct': y3}\n",
    "output = pd.DataFrame(data)\n",
    "print(output)\n",
    "output.to_csv('test.csv')"
   ]
  },
  {
   "cell_type": "code",
   "execution_count": 40,
   "metadata": {},
   "outputs": [],
   "source": [
    "tn, fp, fn, tp = confusion_matrix(y3, y3_pred).ravel()"
   ]
  },
  {
   "cell_type": "code",
   "execution_count": 41,
   "metadata": {},
   "outputs": [
    {
     "name": "stdout",
     "output_type": "stream",
     "text": [
      "3640 32 2 1497\n"
     ]
    }
   ],
   "source": [
    "print(tn, fp, fn, tp)"
   ]
  },
  {
   "cell_type": "code",
   "execution_count": 42,
   "metadata": {},
   "outputs": [],
   "source": [
    "fp = pd.read_csv(\"C:/Users/Window10Pro/Desktop/dataset/test.csv\")"
   ]
  },
  {
   "cell_type": "code",
   "execution_count": 43,
   "metadata": {},
   "outputs": [
    {
     "name": "stdout",
     "output_type": "stream",
     "text": [
      "Subject: spring savings certificate - take 30 % off\r\n",
      "save 30 % when you use our customer appreciation spring savings\r\n",
      "certificate at foot locker , lady foot locker , kids foot locker and at\r\n",
      "our online stores !\r\n",
      "welcome to our customer appreciation spring savings certificate !\r\n",
      "use the special certificate below and receive 30 % off your purchases either in our stores or online . hurry ! this 4 - day sale begins thursday , march 22 and ends sunday , march 25 .\r\n",
      "share the savings today and e - mail this offer to your friends . many items already are reduced and the 30 % discount is taken off the lowest sale price .\r\n",
      "click below to print your customer appreciation spring savings certificate . you must present this coupon at any foot locker , lady foot locker or kids foot locker store in the u . s . foot locker canada is not participating in this program .\r\n",
      "ready , set , save !\r\n",
      "our spring savings discount will automatically appear when you use the links below or type camlem 21 into the promotion code box during checkout .\r\n",
      "footlocker . com certificate code : camlem 21\r\n",
      "ladyfootlocker . com certificate code : camlem 21\r\n",
      "kidsfootlocker . com certificate code : camlem 21\r\n",
      "remember , returns are hassle - free . simply bring your items to any of our stores nationwide or through the mail .\r\n",
      "don ' t be left out - register today to learn about our new products , promotions , events and other specials . simply click below .\r\n",
      "terms and conditions . some exclusions apply , please see manager for complete details . certificate must be presented at the time of purchase and cannot be used in conjunction with any other discount offer or associate benefit . not redeemable for cash . applicable taxes must be paid by bearer . cannot be applied to prior purchases or to gift card purchases . void where prohibited , licensed or regulated . catalog exclusions apply . valid thursday , 3 / 22 / 01 through sunday , 3 / 25 / 01 . foot locker canada will not participate in this program .\r\n",
      "if you do not wish to receive future emails please click below to\r\n",
      "unsubscribe :\r\n",
      "\n",
      "Subject: take 30 % off with our super ticket !\r\n",
      "use our super savings ticket at foot locker , lady foot locker , kids\r\n",
      "foot locker , champs sports stores and at our web sites !\r\n",
      "welcome to our friends & family super savings ticket .\r\n",
      "use the special ticket below and receive 30 % off your purchase either in our\r\n",
      "stores or on our web sites . hurry ! this three - day ticket only is good\r\n",
      "thursday , jan . 25 , through saturday , jan 27 .\r\n",
      "share the savings today and e - mail this offer to friends and family . many\r\n",
      "items already are reduced and the discount is taken off the lowest sale price .\r\n",
      "click below to print your friends & family super savings ticket . you must\r\n",
      "bring the coupon to the store to redeem .\r\n",
      "ready , set , save !\r\n",
      "simply click on the links provided and our friends & family discount will\r\n",
      "automatically appear at checkout or you can type the code into the promotion\r\n",
      "box during checkout . and returns are hassle - free , either to one of our stores\r\n",
      "or through the mail .\r\n",
      "footlocker . com coupon code : em 21 f 2 jl\r\n",
      "ladyfootlocker . com coupon code : em 23 ffjl\r\n",
      "kidsfootlocker . com coupon code : em 22 ffjl\r\n",
      "champssports . com coupon code : em 20 ffjl\r\n",
      "don ' t be left out - register today , if you want to hear about our products ,\r\n",
      "promotions , events and other specials - just click below to join .\r\n",
      "* terms and conditions *\r\n",
      "valid 1 / 25 / 01 through 1 / 27 / 01 . passport must be presented at the time of\r\n",
      "purchase and cannot be used in conjunction with any other discount offer or\r\n",
      "associate benefit . not redeemable for cash . applicable taxes must be paid by\r\n",
      "the bearer . cannot be applied to prior purchases or to gift card purchases .\r\n",
      "void if copied and where prohibited , licensed or regulated . catalog\r\n",
      "exclusions apply . not valid at the nfl team shop at nfl experience in tampa ,\r\n",
      "fl . discount does not apply to nike air force 1 , timberland field boots ,\r\n",
      "jordan xi , nike shox and nfl super bowl products .\r\n",
      "if you do not wish to receive future emails please click below to\r\n",
      "unsubscribe :\r\n",
      "\n",
      "Subject: re : lindholm oil , inc .\r\n",
      "the new sitara no . is 168509\n",
      "Subject: = ? ansi _ x 3 . 4 - 1968 ? q ? new _ employee _ service _ = 01 ) _ turbo _ tax ? =\r\n",
      "as tax season rapidly approaches , we are pleased to announce a new w - 2\r\n",
      "employee service . if you plan to file your personal income taxes through\r\n",
      "turbotax 2000 ( intuit ' s personal tax filing software ) you will be able to\r\n",
      "automatically download your w - 2 information into the appropriate turbotax\r\n",
      "forms directly over the internet for free .\r\n",
      "enron has chosen to provide this service to help speed the processing time\r\n",
      "and accuracy of your return while supporting paperless processing .\r\n",
      "more information regarding this service is listed below or visit\r\n",
      "www . probusinesstaxes . com to find out more about the turbotax software and\r\n",
      "web - based filing service .\r\n",
      "employee fact sheet : probusiness / intuit w - 2 service\r\n",
      "q . what is the automated tax return ( atr ) service ?\r\n",
      "a . intuit inc . , makers of the popular quicken turbotax tax preparation and\r\n",
      "filing software , have launched a new automated tax return ( atr ) service to\r\n",
      "simplify tax preparation for turbotax users . atr allows users of turbotax tax\r\n",
      "preparation and filing software to import tax information from multiple\r\n",
      "sources such as employers , brokerage houses , and mutual fund companies\r\n",
      "directly into the correct turbotax forms over the internet . since our\r\n",
      "payroll tax provider , probusiness , has partnered with intuit to provide this\r\n",
      "service , you will be able to electronically download your individual w - 2 data\r\n",
      "from probusiness directly into turbotax through the internet for free . also ,\r\n",
      "as part of this program , you can receive a 5 % discount on all turbotax and\r\n",
      "quicken products including shipping and handling ( go to\r\n",
      "www . probusinesstaxes . com for more information ) .\r\n",
      "q . so how does it work ?\r\n",
      "a . embedded in each version of turbotax 2000 ( both the software and web\r\n",
      "application ) is a series of screens that will ask whether your employer\r\n",
      "allows you to automatically download your data into turbotax . to use the\r\n",
      "free service , simply answer \" yes \" then select our payroll tax provider ,\r\n",
      "probusiness , from a drop - down list of providers which includes probusiness ,\r\n",
      "peoplesoft , ceridian , and seemyw 2 . com . validate your request by entering\r\n",
      "your social security number and w - 2 box one data and your w - 2 data will\r\n",
      "automatically transfer via the internet into the appropriate locations in the\r\n",
      "turbotax form .\r\n",
      "q . is this a secure transaction ?\r\n",
      "a . intuit \u0001 , s turbotax atr service combines open financial exchange ( ofx ) , the\r\n",
      "standard technology used in e - finance , with 128 - bit military - grade encryption\r\n",
      "to create an advanced security protocol that ensures the highest level of\r\n",
      "security and confidentiality when obtaining financial data to populate your\r\n",
      "turbotax form over the internet .\r\n",
      "q . how do i participate in this program ?\r\n",
      "a . only employees using intuit \u0001 , s turbotax 2000 tax preparation and filing\r\n",
      "software can take advantage of this web - based atr service . turbotax software\r\n",
      "and the atr web - based filing service can be accessed at\r\n",
      "www . probusinesstaxes . com .\r\n",
      "q . what if i already own turbotax 2000 \u0001 ( does this still work ?\r\n",
      "a . yes , all copies of turbotax 2000 contain the automated tax return service\r\n",
      "option .\r\n",
      "q . overall what are the benefits to me ?\r\n",
      "a . using the atr service provided by intuit and probusiness , you can :\r\n",
      "? increase your probability of accurate filing .\r\n",
      "? eliminate the need to manually enter your w - 2 information and other\r\n",
      "financial data .\r\n",
      "? increase the overall speed of tax filing .\n",
      "Subject: holiday party - save the date\r\n",
      "please click on the link below\r\n",
      "save the date\n",
      "Subject: christmas tree farm pictures\r\n",
      "\n",
      "Subject: fw : father ' s letter\r\n",
      "- - - - - original message - - - - -\r\n",
      "from : michael boykin [ mailto : boykin @ flash . net ]\r\n",
      "sent : friday , january 26 , 2001 4 : 17 pm\r\n",
      "subject : fw : father ' s letter\r\n",
      "> father ' s love letter\r\n",
      ">\r\n",
      "> my child *\r\n",
      "> you may not know me , but i know everything about you * psalm 139 : 1\r\n",
      "> i know when you sit down and when you rise up * psalm 139 : 2\r\n",
      "> i am familiar with all your ways * psalm 139 : 3\r\n",
      "> even the very hairs on your head are numbered * matthew 10 : 29 - 31\r\n",
      "> for you were made in my image * genesis 1 : 27\r\n",
      "> in me you live and move and have your being * acts 17 : 28\r\n",
      "> for you are my offspring * acts 17 : 28\r\n",
      "> i knew you even before you were conceived * jeremiah 1 : 4 - 5\r\n",
      "> i chose you when i planned creation * ephesians 1 : 11 - 12\r\n",
      "> you were not a mistake , for all your days are written in my book * psalm\r\n",
      "139 : 15 - 16\r\n",
      "> i determined the exact time of your birth and where you would live * acts\r\n",
      "17 : 26\r\n",
      "> you are fearfully and wonderfully made * psalm 139 : 14\r\n",
      "> i knit you together in your mother ' s womb * psalm 139 : 13\r\n",
      "> and brought you forth on the day you were born * psalm 71 : 6\r\n",
      "> i have been misrepresented by those who don ' t know me * john 8 : 41 - 44\r\n",
      "> i am not distant and angry , but am the complete expression of love * 1 john\r\n",
      "4 : 16\r\n",
      "> and it is my desire to lavish my love on you * 1 john 3 : 1\r\n",
      "> simply because you are my child and i am your father * 1 john 3 : 1\r\n",
      "> i offer you more than your earthly father ever could * matthew 7 : 11\r\n",
      "> for i am the perfect father * matthew 5 : 48\r\n",
      "> every good gift that you receive comes from my hand * james 1 : 17\r\n",
      "> for i am your provider and i meet all your needs * matthew 6 : 31 - 33\r\n",
      "> my plan for your future has always been filled with hope * jeremiah 29 : 11\r\n",
      "> because i love you with an everlasting love * jeremiah 31 : 3\r\n",
      "> my thoughts toward you are countless as the sand on the seashore * psalm\r\n",
      "139 : 17 - 18\r\n",
      "> and i rejoice over you with singing * zephaniah 3 : 17\r\n",
      "> i will never stop doing good to you * jeremiah 32 : 40\r\n",
      "> for you are my treasured possession * exodus 19 : 5\r\n",
      "> i desire to establish you with all my heart and all my soul * jeremiah 32 : 41\r\n",
      "> and i want to show you great and marvelous things * jeremiah 33 : 3\r\n",
      "> if you seek me with all your heart , you will find me * deuteronomy 4 : 29\r\n",
      "> delight in me and i will give you the desires of your heart * psalm 37 : 4\r\n",
      "> for it is i who gave you those desires * philippians 2 : 13\r\n",
      "> i am able to do more for you than you could possibly imagine * ephesians\r\n",
      "3 : 20\r\n",
      "> for i am your greatest encourager * 2 thessalonians 2 : 16 - 17\r\n",
      "> i am also the father who comforts you in all your troubles * 2 corinthians\r\n",
      "1 : 3 - 4\r\n",
      "> when you are brokenhearted , i am close to you * psalm 34 : 18\r\n",
      "> as a shepherd carries a lamb , i have carried you close to my heart * isaiah\r\n",
      "40 : 11\r\n",
      "> one day i will wipe away every tear from your eyes * revelation 21 : 3 - 4\r\n",
      "> and i ' ll take away all the pain you have suffered on this earth * revelation\r\n",
      "21 : 3 - 4\r\n",
      "> i am your father , and i love you even as i love my son , jesus * john 17 : 23\r\n",
      "> for in jesus , my love for you is revealed * john 17 : 26\r\n",
      "> he is the exact representation of my being * hebrews 1 : 3\r\n",
      "> he came to demonstrate that i am for you , not against you * romans 8 : 31\r\n",
      "> and to tell you that i am not counting your sins * 2 corinthians 5 : 18 - 19\r\n",
      "> jesus died so that you and i could be reconciled * 2 corinthians 5 : 18 - 19\r\n",
      "> his death was the ultimate expression of my love for you * 1 john 4 : 10\r\n",
      "> i gave up everything i loved that i might gain your love * romans 8 : 31 - 32\r\n",
      "> if you receive the gift of my son jesus , you receive me * 1 john 2 : 23\r\n",
      "> and nothing will ever separate you from my love again * romans 8 : 38 - 39\r\n",
      "> come home and i ' ll throw the biggest party heaven has ever seen * luke 15 : 7\r\n",
      "> i have always been father , and will always be father * ephesians 3 : 14 - 15\r\n",
      "> my question is * will you be my child ? * john 1 : 12 - 13\r\n",
      "> i am waiting for you * luke 15 : 11 - 32\r\n",
      ">\r\n",
      "> love , your dad . almighty god\r\n",
      ">\r\n",
      "> written by barry adams copyright 1999\r\n",
      "> intended for personal use . no reprint without permission\r\n",
      ">\r\n",
      "> http : / / www . fathersloveletter . com /\r\n",
      ">\r\n",
      ">\n",
      "Subject: day 26 - txu lonestar called on 20000 at carthage\r\n",
      "\n",
      "Subject: cdnow order confirmation\r\n",
      "dear daren ,\r\n",
      "thank you for shopping at cdnow .\r\n",
      "this email is to confirm your order number 16840862 .\r\n",
      "to check the status of this order or to make any changes , click or\r\n",
      "copy / paste this link into your web browser :\r\n",
      "http : / / cdnow . com / myorder / otid = 16840862\r\n",
      "you can also access your order history directly from our home page .\r\n",
      "you have ordered the following item :\r\n",
      "cash / nelson : vhl storytellers ( cd )\r\n",
      "this will ship via u . s . postal service .\r\n",
      "the shipping address for this order is :\r\n",
      "daren farmer\r\n",
      "5519 clarkston ln\r\n",
      "spring , tx 77379\r\n",
      "your order total is $ 14 . 48 .\r\n",
      "free shipping at bolt ! check out bolt . com , it ' s got tons of great stuff\r\n",
      "selected by bolt members - - from funky clothes and stuff for your room to\r\n",
      "cool sports and music gear . plus , for a limited time only , shipping is free\r\n",
      "with every order ! shop at bolt now ! click :\r\n",
      "you don ' t often see the words \" digital startac \" and \" free \" next to each\r\n",
      "other . in this one - of - a - kind offer , you can get a motorola startac 7797\r\n",
      "free when you sign up for an at & t digital one rate service plan and\r\n",
      "maintain service for at least 90 days . to see if this deal is available in\r\n",
      "your area , visit telstreet . com\r\n",
      "please do not reply to this email . if you have questions about your\r\n",
      "order that are not addressed in your online order history , please visit\r\n",
      "our contact cdnow page using this link :\r\n",
      "http : / / cdnow . com / service\r\n",
      "this order is worth 115 fast forward rewards ( tm ) program\r\n",
      "points . these \" points pending \" will appear in your membership summary as\r\n",
      "\" points earned \" after your order has shipped .\r\n",
      "thanks again for shopping at cdnow .\r\n",
      "sincerely ,\r\n",
      "customer service\r\n",
      "cdnow , inc . your music . your store .\r\n",
      "http : / / cdnow . com\r\n",
      "aol keyword : cdnow\r\n",
      "1757978\n",
      "Subject: hl & p flow\r\n",
      "here are the most recent numbers .\n",
      "Subject: welcome to the next wave in digital music\r\n",
      "if you have trouble viewing this page , please click here . to unsubscribe ,\r\n",
      "please click here .\r\n",
      "[ image ]\r\n",
      "now , you can have your music your way \u0001 * online and off . plus , get a $ 50 rebate\r\n",
      "by mail .\r\n",
      "music online has always played by online rules \u0001 * big , slow \u0001 ) downloading files ,\r\n",
      "complications in organizing song lists and worse \u0001 * you were chained to your pc\r\n",
      "to listen to it .\r\n",
      "that ' s all changing . with windows mediaplayer 7 and windowsmedia . com , the\r\n",
      "compaq ipaq pa \u0001 ) 1 personal audio player is your ticket to where music is\r\n",
      "going . and getting on the next wave of digital music takes just three easy\r\n",
      "steps :\r\n",
      "[ image ] buy an ipaq pa \u0001 ) 1 personal audio player and for a limited time , get a\r\n",
      "$ 50 rebate by mail ! it ' s a small device , about the size of a pager , but it\r\n",
      "delivers amazing full \u0001 ) digital sound . rugged construction means it ' s ready to\r\n",
      "fit your lifestyle . and the removable memory cards hold up to two hours of\r\n",
      "music !\r\n",
      "[ image ]\r\n",
      "visit www . compaq . com / wmp 7 for the exclusive compaq version of windows media\r\n",
      "player 7 . here , you get seven features in one easy \u0001 ) to \u0001 ) use package : cd player ,\r\n",
      "audio and video player , media jukebox , media guide , internet radio , portable\r\n",
      "device file transfer and an audio cd burner .\r\n",
      "[ image ]\r\n",
      "[ image ] check out windowsmedia . com for the best audio and video on the web ,\r\n",
      "including exciting new formats that download faster and use less ram for more\r\n",
      "songs .\r\n",
      "it ' s easy \u0001 * get the music you want , access to thousands of titles , expanded\r\n",
      "features and a $ 50 mail \u0001 ) in rebate on an ipaq personal audio player \u0001 * all in a\r\n",
      "few clicks . join the digital music revolution today and take your music with\r\n",
      "you , anywhere you want to go .\r\n",
      "if you would rather not receive e - mails about future contests and promotions ,\r\n",
      "service updates , product enhancements , cool activities or new products ,\r\n",
      "please click here to remove your name from our mailing list .\r\n",
      "[ image ]\n",
      "Subject: re : table and buffet\r\n",
      "is it very dark in color ? and how big around is it ?\n",
      "Subject: fw : box under the bed\r\n",
      "- - - - - original message - - - - -\r\n",
      "from : carol covington\r\n",
      "sent : monday , december 11 , 2000 12 : 46 pm\r\n",
      "to : betty carroll ; david heineke ; george hurst ; glenn stamps ; jim\r\n",
      "wallis ; ricky stewart ; tammy kelley ; ' cacklecc @ aol . com '\r\n",
      "subject : fw : box under the bed\r\n",
      "- - - - - original message - - - - -\r\n",
      "from : julie wright [ smtp : julie @ rpcga . com ]\r\n",
      "sent : monday , december 11 , 2000 12 : 40 pm\r\n",
      "to : candy grant ; carol covington ; faye click ; jim love\r\n",
      "subject : box under the bed\r\n",
      "subject : box under the bed\r\n",
      "> box under the bed\r\n",
      ">\r\n",
      "> when bill and hillary first got married bill said , \" i am\r\n",
      "putting a box\r\n",
      "under\r\n",
      "> the bed . you must promise never to look in it . \" in all\r\n",
      "their 30\r\n",
      "years of\r\n",
      "> marriage hillary never looked .\r\n",
      ">\r\n",
      "> however , on the afternoon of their 30 th anniversary ,\r\n",
      "curiosity\r\n",
      "got the\r\n",
      "best\r\n",
      "> of her and she lifted the lid and peeked inside . in the box\r\n",
      "were 3 empty\r\n",
      "> beer cans and $ 81 , 874 . 25 in cash .\r\n",
      ">\r\n",
      "> she closed the box and put it back under the bed . now that\r\n",
      "she\r\n",
      "knew what\r\n",
      "> was in the box , she was doubly curious as to why . that\r\n",
      "evening\r\n",
      "they were\r\n",
      "out\r\n",
      "> for a special dinner . after dinner hillary could no\r\n",
      "longer\r\n",
      "contain her\r\n",
      "> curiosity and she confessed , saying , \" i am so sorry . for\r\n",
      "all\r\n",
      "these years i\r\n",
      "> kept my promise and never looked into the box under our\r\n",
      "bed .\r\n",
      "however ,\r\n",
      "> today the temptation was too much and i gave in . but now i\r\n",
      "need to know ,\r\n",
      "> why do you keep the cans in the box ? \"\r\n",
      ">\r\n",
      "> bill thought for a while and said , \" i guess after all these\r\n",
      "years you\r\n",
      "> deserve to know the truth . whenever i was unfaithful to you\r\n",
      "i\r\n",
      "put an empty\r\n",
      "> beer can in the box under the bed to remind myself not to\r\n",
      "do it\r\n",
      "again . \"\r\n",
      ">\r\n",
      "> hillary was shocked , but said , \" hmmm , jennifer , paula and\r\n",
      "monica . i am\r\n",
      "> very disappointed and saddened but temptation does happen\r\n",
      "and\r\n",
      "i guess\r\n",
      "that\r\n",
      "> 3\r\n",
      "> times is not that bad considering the years . \"\r\n",
      ">\r\n",
      "> they hugged and made their peace .\r\n",
      ">\r\n",
      "> a little while later hillary asked bill , \" so why do you\r\n",
      "have\r\n",
      "all that\r\n",
      "money\r\n",
      "> in the box ? \"\r\n",
      ">\r\n",
      "> bill answered , \" well , whenever the box filled up with empty\r\n",
      "cans , i took\r\n",
      "> them to the recycling center and redeemed them for cash . \"\n",
      "Subject: hey darren\r\n",
      "it ' s me , kari bullington . i just thought i would drop you a line and say\r\n",
      "hello ! ! ! how are you ?\r\n",
      "i sure hated to hear about troy . i don ' t understand how something like that\r\n",
      "can happen to such an all around great person .\r\n",
      "hope to hear from you ! !\r\n",
      "kari\n",
      "Subject: gymnastics pictures\r\n",
      "\n",
      "Subject: valentines day help\r\n",
      "red - neck valentine ' s love poem\r\n",
      "collards is green\r\n",
      "my dog ' s name is blue\r\n",
      "and i ' m so lucky\r\n",
      "to have a sweet thang like you .\r\n",
      "yore hair is like cornsilk\r\n",
      "a - flapping in the breeze\r\n",
      "softer than old blue ' s\r\n",
      "and without all them fleas .\r\n",
      "you move like the bass ,\r\n",
      "which excite me in may .\r\n",
      "you ain ' t got no scales\r\n",
      "but i luv you anyway .\r\n",
      "yo ' re as satisfy ' n as okry\r\n",
      "jist a - fry ' n in the pan .\r\n",
      "yo ' re as fragrant as \" snuff \"\r\n",
      "right out of the can .\r\n",
      "you have som ' a yore teeth ,\r\n",
      "for which i am proud ;\r\n",
      "i hold my head high\r\n",
      "when we ' re in a crowd .\r\n",
      "on special occasions ,\r\n",
      "when you shave under yore arms ,\r\n",
      "well , i ' m in hawg heaven ,\r\n",
      "and awed by yore charms .\r\n",
      "still them fellers at work ,\r\n",
      "they all want to know ,\r\n",
      "what i did to deserve\r\n",
      "such a purdy , young doe .\r\n",
      "like a good roll of duct tape\r\n",
      "yo ' re there fer yore man ,\r\n",
      "to patch up life ' s troubles\r\n",
      "and fix what you can .\r\n",
      "yo ' re as cute as a junebug\r\n",
      "a - buzzin ' overhead .\r\n",
      "you ain ' t mean like those far ants\r\n",
      "i found in my bed .\r\n",
      "cut from the best cloth\r\n",
      "like a plaid flannel shirt ,\r\n",
      "you spark up my life\r\n",
      "more than a fresh load of dirt .\r\n",
      "when you hold me real tight\r\n",
      "like a padded gunrack ,\r\n",
      "my life is complete ;\r\n",
      "ain ' t nuttin ' i lack .\r\n",
      "yore complexion , it ' s perfection ,\r\n",
      "like the best vinyl sidin ' .\r\n",
      "despite all the years ,\r\n",
      "yore age , it keeps hidin ' .\r\n",
      "me ' n ' you ' s we go together\r\n",
      "just like a moon pie\r\n",
      "with a rc cold drank ,\r\n",
      "yep , we go together\r\n",
      "like a skunk goes with stank .\r\n",
      "some men , they buy chocolate\r\n",
      "for valentine ' s day ;\r\n",
      "they git it at wal - mart ,\r\n",
      "it ' s romantic that way .\r\n",
      "some men git roses\r\n",
      "on that special day\r\n",
      "from the cooler at kroger .\r\n",
      "\" that ' s impressive , \" i say .\r\n",
      "some men buy fine diamonds\r\n",
      "from a flea market booth .\r\n",
      "\" diamonds are forever , \"\r\n",
      "they explain , suave and couth .\r\n",
      "but for this man , honey ,\r\n",
      "these won ' t do .\r\n",
      "cause yo ' re too special ,\r\n",
      "you sweet thang you .\r\n",
      "i got you a gift ,\r\n",
      "without taste nor odor ,\r\n",
      "more useful than diamonds . . .\r\n",
      "it ' s a new trollin ' motor ! !\r\n",
      "l shore due luv you darling ,\r\n",
      "aint love grand ! ! ! ! . . . . .\r\n",
      "bubba\n",
      "Subject: aol instant messenger confirmation\r\n",
      "thank you for registering for the aol instant messenger ( sm ) service !\r\n",
      "your registration for screen name dfarmer 770 has been received .\r\n",
      "you are now one step away from being able to :\r\n",
      "* communicate instantly - - it ' s fast , easy , fun and free !\r\n",
      "* create your own buddy list ( r ) feature - - see when your friends and family are online .\r\n",
      "* meet new friends in our chat rooms or by searching our member directory .\r\n",
      "* follow your stocks and news headlines , exchange files and images and much , much more .\r\n",
      "please reply to this message within 48 hours to complete the registration process .\r\n",
      "simply click on reply and type ' ok ' as the text of your message so that we can\r\n",
      "confirm that your e - mail address is valid . confirming your registration is very\r\n",
      "important - - it ensures that using screen name dfarmer 770 you can use all current\r\n",
      "and future features of the aim ( sm ) service as well as the following great aol\r\n",
      "web products :\r\n",
      "* aol calendar ( sm ) ( aim . aol . com / redirects / aimemail / calendar . html )\r\n",
      "* aol hometown ( sm ) ( aim . aol . com / redirects / aimemail / hometown . html )\r\n",
      "* my aol . com ( aim . aol . com / redirects / aimemail / myaol . html )\r\n",
      "* aol . com ( sm ) personal finance web center ( aim . aol . com / redirects / aimemail / finance . html )\r\n",
      "as a security precaution you will not be able to obtain or change your password\r\n",
      "or update your e - mail address until you confirm your registration .\r\n",
      "upon confirmation you will receive a welcome message with valuable links to faqs\r\n",
      "and other helpful information .\r\n",
      "download the aol instant messenger ( tm ) software from the aol . com ( sm ) web site\r\n",
      "( aim . aol . com / redirects / aimemail / download . html ) , if you have not already done so .\r\n",
      "to use the aim service when you are away from your computer ,\r\n",
      "click here for information about our quick\r\n",
      "buddy service .\r\n",
      "again , thank you for registering for the aol instant messenger service !\r\n",
      "you received this one - time - only e - mail because you successfully registered for the\r\n",
      "aim service .\n",
      "Subject: $ 5 for cd ' s dvd ' s expires soon at half . com\r\n",
      "* * free $ 5 coupon at half . com * *\r\n",
      "o half . com is a new site for cds , books , movies , & video games\r\n",
      "o everything is 50 - 90 % off and you get $ 5 off your first $ 10 order\r\n",
      "o plus , free shipping with your first order of 3 or more items\r\n",
      "o be sure to pass this coupon on to all your friends ! ! !\r\n",
      "click here for 5 bucks !\r\n",
      "your coupon code is : lifestyle 5\r\n",
      "\" use it or lose it \" expires soon ! !\r\n",
      "click here for 5 bucks !\r\n",
      "your coupon code is : lifestyle 5\r\n",
      "the hottest titles at 50 % off while they last - including :\r\n",
      "cds - santana , n sync , dixie chicks , jay - z , and christina\r\n",
      "aguilera project , sixth sense and matrix\r\n",
      "dvds - world is not enough , blair witch and more . . .\r\n",
      "* * free $ 5 coupon at half . com * *\r\n",
      "click here for 5 bucks !\r\n",
      "your coupon code is : lifestyle 5\r\n",
      "on the shopping cart page , enter your $ 5 . 00 coupon\r\n",
      "code on the right side of the page . after submitting\r\n",
      "your code , your coupon will be displayed in your\r\n",
      "shopping cart .\r\n",
      "you have received this invitation to participate in our offer because\r\n",
      "you or someone using your e - mail address agreed to receive special\r\n",
      "promotional offers from retail trade services and its web site\r\n",
      "partners . if you wish to be excluded from future offers , please reply\r\n",
      "to this message and type \" unsubscribe \" in the subject line .\r\n",
      "all questions can be sent to :\r\n",
      "if you wish to know more about our privacy policies , please go to\r\n",
      "\n",
      "Subject: spring savings certificate - take 30 % off\r\n",
      "save 30 % when you use our customer appreciation spring savings\r\n",
      "certificate at foot locker , lady foot locker , kids foot locker and at\r\n",
      "our online stores !\r\n",
      "welcome to our customer appreciation spring savings certificate !\r\n",
      "use the special certificate below and receive 30 % off your purchases either\r\n",
      "in our stores or online . hurry ! this 4 - day sale begins thursday , march 22 and\r\n",
      "ends sunday , march 25 .\r\n",
      "share the savings today and e - mail this offer to your friends . many items\r\n",
      "already are reduced and the 30 % discount is taken off the lowest sale price .\r\n",
      "click below to print your customer appreciation spring savings certificate .\r\n",
      "you must present this coupon at any foot locker , lady foot locker or kids\r\n",
      "foot locker store in the u . s . foot locker canada is not participating in\r\n",
      "this program .\r\n",
      "ready , set , save !\r\n",
      "our spring savings discount will automatically appear when you use the links\r\n",
      "below or type camlem 21 into the promotion code box during checkout .\r\n",
      "footlocker . com certificate code : camlem 21\r\n",
      "ladyfootlocker . com certificate code : camlem 21\r\n",
      "kidsfootlocker . com certificate code : camlem 21\r\n",
      "remember , returns are hassle - free . simply bring your items to any of our\r\n",
      "stores nationwide or through the mail .\r\n",
      "don ' t be left out - register today to learn about our new products , promotions ,\r\n",
      "events and other specials . simply click below .\r\n",
      "terms and conditions . some exclusions apply , please see manager for complete\r\n",
      "details . certificate must be presented at the time of purchase and cannot be\r\n",
      "used in conjunction with any other discount offer or associate benefit . not\r\n",
      "redeemable for cash . applicable taxes must be paid by bearer . cannot be\r\n",
      "applied to prior purchases or to gift card purchases . void where prohibited ,\r\n",
      "licensed or regulated . catalog exclusions apply . valid thursday , 3 / 22 / 01\r\n",
      "through sunday , 3 / 25 / 01 . foot locker canada will not participate in this\r\n",
      "program .\r\n",
      "if you do not wish to receive future emails please click below to\r\n",
      "unsubscribe :\r\n",
      "\n",
      "Subject: check these deals :\r\n",
      "70422\r\n",
      "92754\n",
      "Subject: aol instant messenger reconfirmation\r\n",
      "thank you for registering for the aol instant messenger ( sm ) service !\r\n",
      "your registration for screen name dfarmer 770 has been received .\r\n",
      "you are now one step away from being able to :\r\n",
      "* communicate instantly - - it ' s fast , easy , fun and free !\r\n",
      "* create your own buddy list ( r ) feature - - see when your friends and family are online .\r\n",
      "* meet new friends in our chat rooms or by searching our member directory .\r\n",
      "* follow your stocks and news headlines , exchange files and images and much , much more .\r\n",
      "please reply to this message within 48 hours to complete the registration process .\r\n",
      "simply click on reply and type ' ok ' as the text of your message so that we can\r\n",
      "confirm that your e - mail address is valid . confirming your registration is very\r\n",
      "important - - it ensures that using screen name dfarmer 770 you can use all current\r\n",
      "and future features of the aim ( sm ) service as well as the following great aol\r\n",
      "web products :\r\n",
      "* aol calendar ( sm ) ( aim . aol . com / redirects / aimemail / calendar . html )\r\n",
      "* aol hometown ( sm ) ( aim . aol . com / redirects / aimemail / hometown . html )\r\n",
      "* my aol . com ( aim . aol . com / redirects / aimemail / myaol . html ) 0\r\n",
      "* aol . com ( sm ) personal finance web center ( aim . aol . com / redirects / aimemail / finance . html )\r\n",
      "as a security precaution you will not be able to obtain or change your password or\r\n",
      "update your e - mail address until you confirm your registration .\r\n",
      "upon confirmation you will receive a welcome message with valuable links to faqs\r\n",
      "and other helpful information .\r\n",
      "download the aol instant messenger ( tm ) software from the aol . com ( sm ) web site\r\n",
      "( aim . aol . com / redirects / aimemail / download . html ) , if you have not already done so .\r\n",
      "to use the aim service when you are away from your computer ,\r\n",
      "click here for information about our quick\r\n",
      "buddy service .\r\n",
      "again , thank you for registering for the aol instant messenger service !\r\n",
      "you received this one - time - only e - mail because you successfully registered for the\r\n",
      "aim service .\n",
      "Subject: e - mail\r\n",
      "hey daren , is this your e - mail address ? ? ? ? ? ?\n",
      "Subject: fw : texas map\r\n",
      "check these out :\n",
      "Subject: revised\r\n",
      "\n",
      "Subject: re : hoop it up\r\n",
      "281 . 343 . 8233\n",
      "Subject: welcome to aol instant messenger !\r\n",
      "welcome to the aol instant messenger ( sm ) service !\r\n",
      "thank you for confirming your free aol instant messenger account . we ' re glad that\r\n",
      "you ' ve joined the fastest - growing internet online community in the world .\r\n",
      "start using the aim ( sm ) service today !\r\n",
      "with the aim service you are able to :\r\n",
      "* communicate instantly - - it ' s fast , easy , fun and free !\r\n",
      "* create your own buddy list ( r ) feature - - see when your friends and family are online .\r\n",
      "* meet new friends in our chat rooms or by searching our member directory .\r\n",
      "* follow your stocks and news headlines , exchange files and images and much , much more .\r\n",
      "check out our web site !\r\n",
      "our web site is designed to help you get started with the aim service immediately\r\n",
      "and it provides more details on how the aim service can work for you . go to\r\n",
      "( aim . aol . com / redirects / aimemail / aimhome . html ) to learn about topics such as :\r\n",
      "* getting started\r\n",
      "* finding buddies\r\n",
      "* setting up your buddy list feature\r\n",
      "* privacy settings\r\n",
      "* joining aim chat rooms\r\n",
      "* answers to frequently asked questions - - faqs\r\n",
      "* accessing the aim service from anywhere - - quick buddy\r\n",
      "welcome to the aol instant messenger community . see you online !\n",
      "Subject: fw : classic\r\n",
      "thoughts on texas a & m . . .\r\n",
      "fox sports show host jim rome\r\n",
      "1 ) they won ' t shut up . they have to go on about spirit , and old army , and\r\n",
      "red ass , and how bonfire represents the burning sensation they have in\r\n",
      "their urine to beat ut , and blah blah blah . shut up . you start to get the\r\n",
      "feeling the entire school was built to spite ut .\r\n",
      "2 ) forget the fact that when the texas legislature back in the 1870 ' s\r\n",
      "passed legislation to start a state university they also decided to have a\r\n",
      "subsidiary branch of the main school ( university of texas ) that would teach\r\n",
      "agriculture and mechanics . aggies love to say their school is older , from\r\n",
      "where they get that i don ' t now . . . . . . the fact is , the state intended a & m\r\n",
      "to be a branch of ut . they are like the afterbirth fromthe original\r\n",
      "creation . like danny devito in \" twins \" .\r\n",
      "3 ) so they apparently have this complex , so much so , that they must\r\n",
      "devote\r\n",
      "their entire school to trying to prove to ut that they are just as good .\r\n",
      "all the while , nobody at ut denies that a & m is a good school , yet they\r\n",
      "won ' t shut up . so they write a fight song . . . . . . about ? . . . . texas , and how\r\n",
      "they want to beat them . they have a fish camp for freshman where they tell\r\n",
      "them how bad texas is and how good a & m and all its traditions are . it is\r\n",
      "the world ' s largest known case of penis envy , and it is manifested in\r\n",
      "everything a & m does .\r\n",
      "4 ) the people at a & m . now we all have friends who went to a & m or are at\r\n",
      "a & m .\r\n",
      "there are some nice people there . however . . . there is the corp . east texas '\r\n",
      "answer to dreams of rotc kids everywhere . for every boy scout who never\r\n",
      "learned to stop playing with his gi joe toys , there is the corp . now ,\r\n",
      "forget the fact that a however ,\r\n",
      "nobody respects the corp . i imagine they are kind of the laughing stock of\r\n",
      "the military world . just because you dress like the army , and try and act\r\n",
      "like the army , does not make you the army . people at a & m don ' t even respect\r\n",
      "these clowns . it is not cool to shave your head and dress up . halloween is\r\n",
      "only supposed to be one day of the year . if you want to carry guns and beat\r\n",
      "up civilians , move to israel .\r\n",
      "5 ) it is even less cool to slobber on somebody ' s daughter on national\r\n",
      "television and call it a tradition . dry humping 18 year old girls in the\r\n",
      "stands at football games is not cool . not only is it not cool , it should be\r\n",
      "against the law . i know that in college station , students are just prone to\r\n",
      "mount each other on the campus lawn , or in the middle of class , or anytime\r\n",
      "anything good happens you can just grab the girl sitting next to you and\r\n",
      "start sucking on her face . but everywhere else in the world , it is looked\r\n",
      "down upon . especially if you are doing it on my tv . that is why we have\r\n",
      "moved the game from thanksgiving . because people across the nation were\r\n",
      "gagging on their turkey when in the middle of watching a football game ,\r\n",
      "some boy scout is tongue thrashing some overweight co - ed during somebody ' s\r\n",
      "thanksgiving dinner . we do not need to see burly women engaged in a\r\n",
      "suckfest every time your woeful offense manages to put points on the board .\r\n",
      "some of these girls are in desperate need of a trip to the clinique\r\n",
      "counter . screw that , forget make - up , it is too late for that , just give\r\n",
      "them a veil .\r\n",
      "6 ) \" t . u . \" is not funny . it is not insulting . it is dumb . just imagine if\r\n",
      "folks from texas kept talking about m & a and giggling . that would not be\r\n",
      "funny . in fact , it would be retarded . that ' s why ut fans don ' t do it .\r\n",
      "please learn .\r\n",
      "7 ) you want to lose the image of country bumpkins , of a people fond of\r\n",
      "sheep , of people that aren ' t stupid ? then quit building things that fall\r\n",
      "down . quit chasing cheerleaders around with swords on national tv . quit\r\n",
      "whooping in church . quit whooping period . quit putting up scoreboards for\r\n",
      "the enjoyment of dead mammals . quit spending your friday nights practicing\r\n",
      "how to yell . quit telling rape jokes to reporters when you ' re running for\r\n",
      "governor . when you are filling out season ticket renewals , and the form\r\n",
      "asks for your phone # , h & w , quit putting 258 - 3999 , height 6 ' 3 \" , weight\r\n",
      "185 . just , collectively , stop making asses of yourselves . go to east\r\n",
      "texas , tour every small town , and ask every red neck with a 5 th grade\r\n",
      "education why they cheer for a & m and wear maroon . that is your fan base .\r\n",
      "this is why you are perceived by the educated masses as stupid .\r\n",
      "8 ) nobody cares if you think your band is better . they might be louder ,\r\n",
      "they might march in neat little zig zags , but they have no musical ability .\r\n",
      "the point is , nobody cares who wins halftime . quit getting geeked up about\r\n",
      "marching bands . i find it hard to believe you stood through your high\r\n",
      "school band ' s entire halftime performance . and why ? cause nobody cared then\r\n",
      "and nobody cares now . plus , you can hear them fine sitting down even if you\r\n",
      "do care . why is it cool all of a sudden now that you ' re in college ?\r\n",
      "9 ) men should never let out high pitched whooping sounds . perhaps the\r\n",
      "only\r\n",
      "justifiable situation in which this can be tolerated is perhaps during an\r\n",
      "anal probe . oh wait . . . i understand now .\r\n",
      "10 ) dogs are not ladies . they don ' t look or smell like ladies . dogs eat\r\n",
      "their own feces and should be treated accordingly .\r\n",
      "11 ) finally , college station is an arm - pit of a town . quit pretending that\r\n",
      "it is a great college town . it is a town and there is a college there . that\r\n",
      "should be the end of this comparison . if you feel that life doesn ' t get any\r\n",
      "better than the dixie chicken , and enjoy being stuck in a never ending\r\n",
      "\" dukes of hazard \" episode , then move there . more importantly , don ' t move to\r\n",
      "austin . . . . . they are trying to create an educated , technological , and open\r\n",
      "minded population base . austin is , and will continue to be , the birthplace\r\n",
      "and final resting place of all that is cool .\r\n",
      "as my friend stephen johnson once said : \" if the world were ever to get an\r\n",
      "enema , college station is where you would connect the hose . \" if you go to\r\n",
      "school at a & m , please don ' t be an aggie .\r\n",
      "god bless the great state of texas .\r\n",
      "brian puls\r\n",
      "software engineer\r\n",
      "lockheed martin - enterprise solutions\r\n",
      "281 218 - 2740\n",
      "Subject: re : duke\r\n",
      "this has been nominated , tracked and balanced . . .\r\n",
      "mary\n",
      "Subject: fw : picture\r\n",
      ">\r\n",
      ">\r\n",
      "> the following is an aerial photo of the wtc area . it kinda brings on\r\n",
      "> vertigo , but is a phenomenal shot .\r\n",
      ">\r\n",
      "> http : / / userwww . service . emory . edu / ~ rdgarr / wtc . htm\n",
      "Subject: hl & p\r\n",
      "the most recent numbers\n",
      "Subject: february updates\r\n",
      "sorry so late .\n",
      "Subject: house pictures\r\n",
      "\n"
     ]
    }
   ],
   "source": [
    "for i in fp[(fp['pred'] == 1 ) & (fp['correct'] == 0)]['text']:\n",
    "    print(i) "
   ]
  },
  {
   "cell_type": "code",
   "execution_count": 44,
   "metadata": {},
   "outputs": [
    {
     "data": {
      "text/plain": [
       "157554"
      ]
     },
     "execution_count": 44,
     "metadata": {},
     "output_type": "execute_result"
    }
   ],
   "source": [
    "len(cv.get_feature_names_out())"
   ]
  },
  {
   "cell_type": "code",
   "execution_count": null,
   "metadata": {},
   "outputs": [],
   "source": [
    "testdf2 = "
   ]
  }
 ],
 "metadata": {
  "colab": {
   "collapsed_sections": [],
   "name": "spam_mail_detection_SVM.ipynb",
   "provenance": []
  },
  "kernelspec": {
   "display_name": "spam_mail",
   "language": "python",
   "name": "spam_classify"
  },
  "language_info": {
   "codemirror_mode": {
    "name": "ipython",
    "version": 3
   },
   "file_extension": ".py",
   "mimetype": "text/x-python",
   "name": "python",
   "nbconvert_exporter": "python",
   "pygments_lexer": "ipython3",
   "version": "3.9.7"
  }
 },
 "nbformat": 4,
 "nbformat_minor": 1
}
